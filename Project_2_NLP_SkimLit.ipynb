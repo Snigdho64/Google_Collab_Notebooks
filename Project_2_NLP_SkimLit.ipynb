{
  "nbformat": 4,
  "nbformat_minor": 0,
  "metadata": {
    "colab": {
      "name": "Project_2_NLP_SkimLit.ipynb",
      "provenance": [],
      "collapsed_sections": [],
      "mount_file_id": "1SXKVZ5LRIi5IAu2CXOt784FT0la-DAzP",
      "authorship_tag": "ABX9TyOLqGoCEWrCwTxC0E5gIslQ",
      "include_colab_link": true
    },
    "kernelspec": {
      "name": "python3",
      "display_name": "Python 3"
    },
    "language_info": {
      "name": "python"
    },
    "accelerator": "GPU"
  },
  "cells": [
    {
      "cell_type": "markdown",
      "metadata": {
        "id": "view-in-github",
        "colab_type": "text"
      },
      "source": [
        "<a href=\"https://colab.research.google.com/github/Snigdho64/Google_Collab_Notebooks/blob/main/Project_2_NLP_SkimLit.ipynb\" target=\"_parent\"><img src=\"https://colab.research.google.com/assets/colab-badge.svg\" alt=\"Open In Colab\"/></a>"
      ]
    },
    {
      "cell_type": "markdown",
      "source": [
        "# Project Overview\n",
        "In this model we're going to replicat the deep learning model behind the 2017 paper [*PubMed 200k RCT : A Dataset for Sequential Sentence Classification*]('https://arxiv.org/abs/1710.06071').\n",
        "\n",
        "When it was released, the paper presented a new dataset called `PubMed 200k RCT` which consists of ~ 200,000 labelled Randomized Controlled Trial (RCT).\n",
        "\n",
        "The Goal of the the dataset was to explore the ability for NLP models to classify sentences which appear in sequential order.\n",
        "\n",
        "Given an **Abstract** of a RCT, what role does each sentence serve in the abstract ?\n",
        "\n",
        "<img src='https://camo.githubusercontent.com/685822b9841f09bb871773abdc10c66c3792beb1ec363fb1327c5e90aa695130/68747470733a2f2f7261772e67697468756275736572636f6e74656e742e636f6d2f6d7264626f75726b652f74656e736f72666c6f772d646565702d6c6561726e696e672f6d61696e2f696d616765732f30392d736b696d6c69742d6f766572766965772d696e7075742d616e642d6f75747075742e706e67'/>\n",
        "\n",
        "*Our Deep Learning Model will Take an abstract wall of text and predict the section label each sentence should have*"
      ],
      "metadata": {
        "id": "9ND43aCSEmkr"
      }
    },
    {
      "cell_type": "markdown",
      "source": [
        "###Goal : To label each line of an abstract paper into a categroy label based on the information the provide"
      ],
      "metadata": {
        "id": "bUDtKTnCI3NR"
      }
    },
    {
      "cell_type": "code",
      "execution_count": null,
      "metadata": {
        "id": "iTqqwCi37Abn"
      },
      "outputs": [],
      "source": [
        "import tensorflow as tf\n",
        "import numpy as np\n",
        "import pandas as pd\n",
        "import matplotlib.pyplot as plt\n",
        "import seaborn as sns"
      ]
    },
    {
      "cell_type": "code",
      "source": [
        "from os.path import join\n",
        "from os import getcwd,listdir"
      ],
      "metadata": {
        "id": "WILK65QP8D_t"
      },
      "execution_count": null,
      "outputs": []
    },
    {
      "cell_type": "markdown",
      "source": [
        "#1. Getting the daat ready\n",
        "Data is available at github - https://github.com/Franck-Dernoncourt/pubmed-rct.git\n",
        "\n",
        "1. Clone the repo\n",
        "2. Inspect the data\n",
        "3. Select the 10_percent dataset folder\n",
        "4. Read the Files\n",
        "5. Check the Pattern"
      ],
      "metadata": {
        "id": "7RU0aJs9JYrQ"
      }
    },
    {
      "cell_type": "code",
      "source": [
        "!git clone https://github.com/Franck-Dernoncourt/pubmed-rct.git"
      ],
      "metadata": {
        "colab": {
          "base_uri": "https://localhost:8080/"
        },
        "id": "aP-juROU7ZpM",
        "outputId": "902a9d4f-6239-4c61-8567-c22e033420b6"
      },
      "execution_count": null,
      "outputs": [
        {
          "output_type": "stream",
          "name": "stdout",
          "text": [
            "Cloning into 'pubmed-rct'...\n",
            "remote: Enumerating objects: 33, done.\u001b[K\n",
            "remote: Counting objects: 100% (3/3), done.\u001b[K\n",
            "remote: Compressing objects: 100% (3/3), done.\u001b[K\n",
            "remote: Total 33 (delta 0), reused 0 (delta 0), pack-reused 30\u001b[K\n",
            "Unpacking objects: 100% (33/33), done.\n"
          ]
        }
      ]
    },
    {
      "cell_type": "code",
      "source": [
        "root_dir_name = 'pubmed-rct'\n",
        "root_dir_path = join(getcwd(),root_dir_name)"
      ],
      "metadata": {
        "id": "pi8eSnoR72p1"
      },
      "execution_count": null,
      "outputs": []
    },
    {
      "cell_type": "code",
      "source": [
        "list(filter(lambda x:x.startswith('PubMed'),listdir(root_dir_path)))"
      ],
      "metadata": {
        "colab": {
          "base_uri": "https://localhost:8080/"
        },
        "id": "omODrufU83_k",
        "outputId": "ecc58c1d-9369-4f3a-dced-7a4408bc7912"
      },
      "execution_count": null,
      "outputs": [
        {
          "output_type": "execute_result",
          "data": {
            "text/plain": [
              "['PubMed_200k_RCT',\n",
              " 'PubMed_200k_RCT_numbers_replaced_with_at_sign',\n",
              " 'PubMed_20k_RCT_numbers_replaced_with_at_sign',\n",
              " 'PubMed_20k_RCT']"
            ]
          },
          "metadata": {},
          "execution_count": 6
        }
      ]
    },
    {
      "cell_type": "code",
      "source": [
        "dir_name = 'PubMed_20k_RCT_numbers_replaced_with_at_sign'\n",
        "dir_path = join(root_dir_path,dir_name)\n",
        "filenames = listdir(dir_path)\n",
        "filenames"
      ],
      "metadata": {
        "colab": {
          "base_uri": "https://localhost:8080/"
        },
        "id": "ewx4jYkW85QN",
        "outputId": "329aa2e7-4b33-45bb-caee-ce8382426120"
      },
      "execution_count": null,
      "outputs": [
        {
          "output_type": "execute_result",
          "data": {
            "text/plain": [
              "['train.txt', 'dev.txt', 'test.txt']"
            ]
          },
          "metadata": {},
          "execution_count": 7
        }
      ]
    },
    {
      "cell_type": "code",
      "source": [
        "def read_file(filename):\n",
        "  '''\n",
        "  Reads a text file and return the line sof the Text as Output\n",
        "  Args:\n",
        "  filename :(String) the target filename to read\n",
        "  Returns:\n",
        "  A list of string with one string per line\n",
        "  '''\n",
        "  with open(filename,'r') as f:\n",
        "    text = f.readlines()\n",
        "  return text"
      ],
      "metadata": {
        "id": "JWL6cyuDAu4M"
      },
      "execution_count": null,
      "outputs": []
    },
    {
      "cell_type": "code",
      "source": [
        "read_file(join(dir_path,'train.txt'))[:20]"
      ],
      "metadata": {
        "colab": {
          "base_uri": "https://localhost:8080/"
        },
        "id": "X1clWdgNBd2b",
        "outputId": "fea76690-cccd-4c81-ce4e-ebbb05168a05"
      },
      "execution_count": null,
      "outputs": [
        {
          "output_type": "execute_result",
          "data": {
            "text/plain": [
              "['###24293578\\n',\n",
              " 'OBJECTIVE\\tTo investigate the efficacy of @ weeks of daily low-dose oral prednisolone in improving pain , mobility , and systemic low-grade inflammation in the short term and whether the effect would be sustained at @ weeks in older adults with moderate to severe knee osteoarthritis ( OA ) .\\n',\n",
              " 'METHODS\\tA total of @ patients with primary knee OA were randomized @:@ ; @ received @ mg/day of prednisolone and @ received placebo for @ weeks .\\n',\n",
              " 'METHODS\\tOutcome measures included pain reduction and improvement in function scores and systemic inflammation markers .\\n',\n",
              " 'METHODS\\tPain was assessed using the visual analog pain scale ( @-@ mm ) .\\n',\n",
              " 'METHODS\\tSecondary outcome measures included the Western Ontario and McMaster Universities Osteoarthritis Index scores , patient global assessment ( PGA ) of the severity of knee OA , and @-min walk distance ( @MWD ) .\\n',\n",
              " 'METHODS\\tSerum levels of interleukin @ ( IL-@ ) , IL-@ , tumor necrosis factor ( TNF ) - , and high-sensitivity C-reactive protein ( hsCRP ) were measured .\\n',\n",
              " 'RESULTS\\tThere was a clinically relevant reduction in the intervention group compared to the placebo group for knee pain , physical function , PGA , and @MWD at @ weeks .\\n',\n",
              " 'RESULTS\\tThe mean difference between treatment arms ( @ % CI ) was @ ( @-@ @ ) , p < @ ; @ ( @-@ @ ) , p < @ ; @ ( @-@ @ ) , p < @ ; and @ ( @-@ @ ) , p < @ , respectively .\\n',\n",
              " 'RESULTS\\tFurther , there was a clinically relevant reduction in the serum levels of IL-@ , IL-@ , TNF - , and hsCRP at @ weeks in the intervention group when compared to the placebo group .\\n',\n",
              " 'RESULTS\\tThese differences remained significant at @ weeks .\\n',\n",
              " 'RESULTS\\tThe Outcome Measures in Rheumatology Clinical Trials-Osteoarthritis Research Society International responder rate was @ % in the intervention group and @ % in the placebo group ( p < @ ) .\\n',\n",
              " 'CONCLUSIONS\\tLow-dose oral prednisolone had both a short-term and a longer sustained effect resulting in less knee pain , better physical function , and attenuation of systemic inflammation in older patients with knee OA ( ClinicalTrials.gov identifier NCT@ ) .\\n',\n",
              " '\\n',\n",
              " '###24854809\\n',\n",
              " 'BACKGROUND\\tEmotional eating is associated with overeating and the development of obesity .\\n',\n",
              " 'BACKGROUND\\tYet , empirical evidence for individual ( trait ) differences in emotional eating and cognitive mechanisms that contribute to eating during sad mood remain equivocal .\\n',\n",
              " 'OBJECTIVE\\tThe aim of this study was to test if attention bias for food moderates the effect of self-reported emotional eating during sad mood ( vs neutral mood ) on actual food intake .\\n',\n",
              " 'OBJECTIVE\\tIt was expected that emotional eating is predictive of elevated attention for food and higher food intake after an experimentally induced sad mood and that attentional maintenance on food predicts food intake during a sad versus a neutral mood .\\n',\n",
              " 'METHODS\\tParticipants ( N = @ ) were randomly assigned to one of the two experimental mood induction conditions ( sad/neutral ) .\\n']"
            ]
          },
          "metadata": {},
          "execution_count": 9
        }
      ]
    },
    {
      "cell_type": "markdown",
      "source": [
        "## Format and Restructure The Data For pre-processing\n",
        "Formating Structure of our data :-\n",
        "\n",
        "Each abstract starts with : **###[identification_number]**\n",
        "\n",
        "The Labels are : **[BACKGROUND, OBJECTIVE, METHODS, RESULTS, CONCLUSION]**\n",
        "\n",
        "At the end of each abstract there is an **emptyspace**\n"
      ],
      "metadata": {
        "id": "Cy-eQt2jECvS"
      }
    },
    {
      "cell_type": "markdown",
      "source": [
        "Re-structuring Procedure :-\n",
        "We'll create a list of dictonaries for each abstract containing the following key/value pairs :\n",
        "\n",
        "* `line_number` : The order/position of the line in the abstract\n",
        "* `target` : the role of the line/label\n",
        "* `text` : the text line in the abstact \n",
        "*`total_lines` : total number of lines in an abstract"
      ],
      "metadata": {
        "id": "ksOPM7axLHif"
      }
    },
    {
      "cell_type": "code",
      "source": [
        "def structure_data(filename):\n",
        "  '''\n",
        "  Formats and re-structures the text of abstract papers into a list of dictionaries\n",
        "\n",
        "  Args:\n",
        "    filename : (string) target file path for the text of abstract papers\n",
        "  Returns:\n",
        "    A list of dictionaries per abstract from our text of abstract papers\n",
        "    keys of the dictionary are :\n",
        "      'line_number' : order of the line in the abstract\n",
        "      'target' : label for each line based on the role\n",
        "      'text' : test line from the abstract\n",
        "      'total_lines' : total no of lines in the abstract\n",
        "  '''\n",
        "  text_lines = read_file(filename) #Get all lines from the abstract\n",
        "  abstract_list = []\n",
        "\n",
        "  #loop through each line in the text_lines:\n",
        "  for line in text_lines:\n",
        "    if line.startswith('###'):\n",
        "      abstract_id = line[3:-1]\n",
        "      order = -1\n",
        "      abstract_dict = {}\n",
        "      abstract_lines = []\n",
        "    elif line.isspace():\n",
        "      abstract_list.append(abstract_dict)\n",
        "    else:\n",
        "      order+=1\n",
        "      target, text = tuple(line.split('\\t'))\n",
        "      abstract_line_dict = {\n",
        "          'text':text[:-1],\n",
        "          'target':target,\n",
        "          'order':order\n",
        "      }\n",
        "      abstract_lines.append(abstract_line_dict)\n",
        "      abstract_dict['id'] = abstract_id\n",
        "      abstract_dict['lines'] = abstract_lines\n",
        "      abstract_dict['total_lines'] = order+1\n",
        "  return abstract_list"
      ],
      "metadata": {
        "id": "_1oBxsE0NTvH"
      },
      "execution_count": null,
      "outputs": []
    },
    {
      "cell_type": "code",
      "source": [
        "train_list = structure_data(join(dir_path,'train.txt'))\n",
        "valid_list = structure_data(join(dir_path,'dev.txt'))\n",
        "test_list = structure_data(join(dir_path,'test.txt'))"
      ],
      "metadata": {
        "id": "2_avQbmLcjTx"
      },
      "execution_count": null,
      "outputs": []
    },
    {
      "cell_type": "code",
      "source": [
        "def map_abstract(abstract_list):\n",
        "  mapped_list = []\n",
        "  for abstract in abstract_list:\n",
        "    for line in abstract['lines']:\n",
        "      abstract_dict = {}\n",
        "      abstract_dict['order'] = line['order']\n",
        "      abstract_dict['text'] = line['text']\n",
        "      abstract_dict['target'] = line['target']\n",
        "      abstract_dict['total_lines'] = abstract['total_lines']\n",
        "\n",
        "      mapped_list.append(abstract_dict)\n",
        "    \n",
        "  return mapped_list\n"
      ],
      "metadata": {
        "id": "8S5kxo6ZcxVy"
      },
      "execution_count": null,
      "outputs": []
    },
    {
      "cell_type": "code",
      "source": [
        "train_df = pd.DataFrame(map_abstract(train_list))\n",
        "valid_df = pd.DataFrame(map_abstract(valid_list))\n",
        "test_df = pd.DataFrame(map_abstract(test_list))"
      ],
      "metadata": {
        "id": "nsz2ZLudknTJ"
      },
      "execution_count": null,
      "outputs": []
    },
    {
      "cell_type": "code",
      "source": [
        "len(train_df),len(valid_df),len(test_df)"
      ],
      "metadata": {
        "colab": {
          "base_uri": "https://localhost:8080/"
        },
        "id": "XIt9TITIqcgO",
        "outputId": "1f2d21fa-1da5-4019-b39b-db31a3704662"
      },
      "execution_count": null,
      "outputs": [
        {
          "output_type": "execute_result",
          "data": {
            "text/plain": [
              "(180040, 30212, 30135)"
            ]
          },
          "metadata": {},
          "execution_count": 14
        }
      ]
    },
    {
      "cell_type": "code",
      "source": [
        "train_df.target.value_counts().plot(kind='bar',cmap='Set2');"
      ],
      "metadata": {
        "colab": {
          "base_uri": "https://localhost:8080/",
          "height": 327
        },
        "id": "VkxwuMALr9xV",
        "outputId": "ae7446ce-4ebd-4b71-9ead-4fa37776020d"
      },
      "execution_count": null,
      "outputs": [
        {
          "output_type": "display_data",
          "data": {
            "image/png": "[encoded data removed]",
            "text/plain": [
              "<Figure size 432x288 with 1 Axes>"
            ]
          },
          "metadata": {
            "needs_background": "light"
          }
        }
      ]
    },
    {
      "cell_type": "code",
      "source": [
        "sns.displot(data=train_df.total_lines,kind='hist',aspect=2,height=6,kde=True,bins=20,palette='Dark2')"
      ],
      "metadata": {
        "colab": {
          "base_uri": "https://localhost:8080/",
          "height": 371
        },
        "id": "adj7MDgtsbZ9",
        "outputId": "088252cb-17b9-4695-afd7-46b22f77015c"
      },
      "execution_count": null,
      "outputs": [
        {
          "output_type": "execute_result",
          "data": {
            "text/plain": [
              "<seaborn.axisgrid.FacetGrid at 0x7fe091ce38d0>"
            ]
          },
          "metadata": {},
          "execution_count": 16
        },
        {
          "output_type": "display_data",
          "data": {
            "image/png": "[encoded data removed]",
            "text/plain": [
              "<Figure size 864x432 with 1 Axes>"
            ]
          },
          "metadata": {
            "needs_background": "light"
          }
        }
      ]
    },
    {
      "cell_type": "markdown",
      "source": [
        "#Creating our feature matrix (X) and labels (y) for our datasets"
      ],
      "metadata": {
        "id": "xDVxWnL3irfO"
      }
    },
    {
      "cell_type": "code",
      "source": [
        "X_train = train_df['text'].to_numpy()\n",
        "X_valid = valid_df['text'].to_numpy()\n",
        "X_test = test_df['text'].to_numpy()\n",
        "\n",
        "X_train[:5]"
      ],
      "metadata": {
        "colab": {
          "base_uri": "https://localhost:8080/"
        },
        "id": "IUA877s2i5XN",
        "outputId": "b755ca88-ba69-479c-dce8-41075f8bb44b"
      },
      "execution_count": null,
      "outputs": [
        {
          "output_type": "execute_result",
          "data": {
            "text/plain": [
              "array(['To investigate the efficacy of @ weeks of daily low-dose oral prednisolone in improving pain , mobility , and systemic low-grade inflammation in the short term and whether the effect would be sustained at @ weeks in older adults with moderate to severe knee osteoarthritis ( OA ) .',\n",
              "       'A total of @ patients with primary knee OA were randomized @:@ ; @ received @ mg/day of prednisolone and @ received placebo for @ weeks .',\n",
              "       'Outcome measures included pain reduction and improvement in function scores and systemic inflammation markers .',\n",
              "       'Pain was assessed using the visual analog pain scale ( @-@ mm ) .',\n",
              "       'Secondary outcome measures included the Western Ontario and McMaster Universities Osteoarthritis Index scores , patient global assessment ( PGA ) of the severity of knee OA , and @-min walk distance ( @MWD ) .'],\n",
              "      dtype=object)"
            ]
          },
          "metadata": {},
          "execution_count": 17
        }
      ]
    },
    {
      "cell_type": "markdown",
      "source": [
        "## Label encoding\n",
        "Convert The label to Numeric Data\n",
        "To encode the labels we'll use `sklearn`'s `OneHotEncoder` and `LabelEncoder` classes"
      ],
      "metadata": {
        "id": "irDbks0js9Us"
      }
    },
    {
      "cell_type": "code",
      "source": [
        "from sklearn.preprocessing import OneHotEncoder,LabelEncoder"
      ],
      "metadata": {
        "id": "uIzW2kOdyvjx"
      },
      "execution_count": null,
      "outputs": []
    },
    {
      "cell_type": "code",
      "source": [
        "one_hot = OneHotEncoder(sparse=False)\n",
        "y_train_one_hot = one_hot.fit_transform(np.array(train_df['target']).reshape(-1, 1))\n",
        "y_valid_one_hot = one_hot.transform(np.array(valid_df['target']).reshape(-1, 1))\n",
        "y_test_one_hot = one_hot.transform(np.array(test_df['target']).reshape(-1, 1))"
      ],
      "metadata": {
        "id": "kFocP7UYy46j"
      },
      "execution_count": null,
      "outputs": []
    },
    {
      "cell_type": "code",
      "source": [
        "y_train_one_hot"
      ],
      "metadata": {
        "colab": {
          "base_uri": "https://localhost:8080/"
        },
        "id": "GzK5r85Y2hbZ",
        "outputId": "c03885f2-f6a0-45b2-b36e-0a7108e42004"
      },
      "execution_count": null,
      "outputs": [
        {
          "output_type": "execute_result",
          "data": {
            "text/plain": [
              "array([[0., 0., 0., 1., 0.],\n",
              "       [0., 0., 1., 0., 0.],\n",
              "       [0., 0., 1., 0., 0.],\n",
              "       ...,\n",
              "       [0., 0., 0., 0., 1.],\n",
              "       [0., 1., 0., 0., 0.],\n",
              "       [0., 1., 0., 0., 0.]])"
            ]
          },
          "metadata": {},
          "execution_count": 20
        }
      ]
    },
    {
      "cell_type": "code",
      "source": [
        "label_encoder = LabelEncoder()\n",
        "y_train_encoded = label_encoder.fit_transform(train_df['target'].to_numpy())\n",
        "y_valid_encoded = label_encoder.transform(valid_df['target'].to_numpy())\n",
        "y_test_encoded = label_encoder.transform(test_df['target'].to_numpy())"
      ],
      "metadata": {
        "id": "G9cq4D6EzlhS"
      },
      "execution_count": null,
      "outputs": []
    },
    {
      "cell_type": "code",
      "source": [
        "y_train_encoded"
      ],
      "metadata": {
        "colab": {
          "base_uri": "https://localhost:8080/"
        },
        "id": "ZPDgWe840Owb",
        "outputId": "395b1862-23d1-44ab-a934-b0c28a0a0fbf"
      },
      "execution_count": null,
      "outputs": [
        {
          "output_type": "execute_result",
          "data": {
            "text/plain": [
              "array([3, 2, 2, ..., 4, 1, 1])"
            ]
          },
          "metadata": {},
          "execution_count": 22
        }
      ]
    },
    {
      "cell_type": "code",
      "source": [
        "class_names = label_encoder.classes_\n",
        "class_names"
      ],
      "metadata": {
        "colab": {
          "base_uri": "https://localhost:8080/"
        },
        "id": "eccZCliU2dXa",
        "outputId": "22e452ea-4dc4-4f0e-c9a6-afbe5fcafe95"
      },
      "execution_count": null,
      "outputs": [
        {
          "output_type": "execute_result",
          "data": {
            "text/plain": [
              "array(['BACKGROUND', 'CONCLUSIONS', 'METHODS', 'OBJECTIVE', 'RESULTS'],\n",
              "      dtype=object)"
            ]
          },
          "metadata": {},
          "execution_count": 23
        }
      ]
    },
    {
      "cell_type": "markdown",
      "source": [
        "# Creating A Series Of Deep Learning Experiments\n",
        "We have preprocessed our data, encoded our labels and created our Feature Matrix\n",
        "Now, we'll perform experiments and create our models and then fine-tune our best model"
      ],
      "metadata": {
        "id": "zZc3n8J12gCB"
      }
    },
    {
      "cell_type": "markdown",
      "source": [
        "## Model_0 : Baseline\n",
        "We'll use **Naive-Bayes** `MultinomialNB` model from `sklearn`\n",
        "\n",
        "For text_vectorization we'll use `TfidfVectorizer` from sklearn.feature_extraction module\n",
        "tf-idf - term frequency - inverse document frequency"
      ],
      "metadata": {
        "id": "jkPQlO6bieaD"
      }
    },
    {
      "cell_type": "code",
      "source": [
        "from sklearn.feature_extraction.text import TfidfVectorizer\n",
        "from sklearn.naive_bayes import MultinomialNB\n",
        "from sklearn.pipeline import Pipeline"
      ],
      "metadata": {
        "id": "WfNXLF4Mkn0V"
      },
      "execution_count": null,
      "outputs": []
    },
    {
      "cell_type": "code",
      "source": [
        "#Create model Pipeline\n",
        "model_0 = Pipeline([\n",
        "                    ('tfidf',TfidfVectorizer()),\n",
        "                    ('clf',MultinomialNB())\n",
        "])"
      ],
      "metadata": {
        "id": "hvrpQ-0Dk4dd"
      },
      "execution_count": null,
      "outputs": []
    },
    {
      "cell_type": "code",
      "source": [
        "#fit on the train data\n",
        "model_0.fit(X_train,y_train_encoded)"
      ],
      "metadata": {
        "colab": {
          "base_uri": "https://localhost:8080/"
        },
        "id": "ylvzPSKWlNtF",
        "outputId": "4f2c12e8-af95-4230-a82a-858da44887a0"
      },
      "execution_count": null,
      "outputs": [
        {
          "output_type": "execute_result",
          "data": {
            "text/plain": [
              "Pipeline(steps=[('tfidf', TfidfVectorizer()), ('clf', MultinomialNB())])"
            ]
          },
          "metadata": {},
          "execution_count": 26
        }
      ]
    },
    {
      "cell_type": "code",
      "source": [
        "from sklearn.metrics import accuracy_score,precision_recall_fscore_support\n",
        "def evaluate(y_true,y_pred):\n",
        "  '''\n",
        "  Returns a dictionary on Evaluation Score on Various Metrics\n",
        "\n",
        "  Args:\n",
        "    y_true : (list/array) true_labels\n",
        "    y_pred : (list/array) respective pred_labels\n",
        "  '''\n",
        "  acc = accuracy_score(y_true,y_pred)\n",
        "  prec , recall, f1, _ = precision_recall_fscore_support(y_true,y_pred,average='weighted')\n",
        "\n",
        "  return {\n",
        "      'accuracy':acc,\n",
        "      'precison': prec,\n",
        "      'recall': recall,\n",
        "      'f1': f1\n",
        "  }"
      ],
      "metadata": {
        "id": "CJrnAzWvlc0G"
      },
      "execution_count": null,
      "outputs": []
    },
    {
      "cell_type": "code",
      "source": [
        "y_pred_0 = model_0.predict(X_valid)\n",
        "y_pred_0,len(y_pred_0)"
      ],
      "metadata": {
        "colab": {
          "base_uri": "https://localhost:8080/"
        },
        "id": "Q5pbSb0enEY8",
        "outputId": "d22b91dc-c02f-4f4b-f704-c67a001b4128"
      },
      "execution_count": null,
      "outputs": [
        {
          "output_type": "execute_result",
          "data": {
            "text/plain": [
              "(array([4, 1, 3, ..., 4, 4, 1]), 30212)"
            ]
          },
          "metadata": {},
          "execution_count": 28
        }
      ]
    },
    {
      "cell_type": "code",
      "source": [
        "y_valid_encoded,len(y_valid_encoded)"
      ],
      "metadata": {
        "colab": {
          "base_uri": "https://localhost:8080/"
        },
        "id": "R2FjXglQnLNl",
        "outputId": "d96acc3f-be31-47f1-b53e-3e68f22863f0"
      },
      "execution_count": null,
      "outputs": [
        {
          "output_type": "execute_result",
          "data": {
            "text/plain": [
              "(array([0, 0, 3, ..., 4, 1, 1]), 30212)"
            ]
          },
          "metadata": {},
          "execution_count": 29
        }
      ]
    },
    {
      "cell_type": "code",
      "source": [
        "baseline_results = evaluate(y_valid_encoded,y_pred_0)\n",
        "baseline_results"
      ],
      "metadata": {
        "colab": {
          "base_uri": "https://localhost:8080/"
        },
        "id": "Viu_61ldnXlN",
        "outputId": "b2166d5e-afcd-492f-c8c5-bf0313ae888a"
      },
      "execution_count": null,
      "outputs": [
        {
          "output_type": "execute_result",
          "data": {
            "text/plain": [
              "{'accuracy': 0.7218323844829869,\n",
              " 'f1': 0.6989250353450294,\n",
              " 'precison': 0.7186466952323352,\n",
              " 'recall': 0.7218323844829869}"
            ]
          },
          "metadata": {},
          "execution_count": 30
        }
      ]
    },
    {
      "cell_type": "markdown",
      "source": [
        "# Creating Tensorflow Datasets for our Tensorflow deep learning model"
      ],
      "metadata": {
        "id": "g-Z09ah8nq7U"
      }
    },
    {
      "cell_type": "code",
      "source": [
        "word_counts = [len(x.split()) for x in X_train]\n",
        "max_length = max(word_counts)\n",
        "min_length = min(word_counts)\n",
        "min_length, max_length"
      ],
      "metadata": {
        "colab": {
          "base_uri": "https://localhost:8080/"
        },
        "id": "qY4ZvNgzo9FL",
        "outputId": "b9423da9-2059-40cb-fb44-a411b93abae5"
      },
      "execution_count": null,
      "outputs": [
        {
          "output_type": "execute_result",
          "data": {
            "text/plain": [
              "(1, 296)"
            ]
          },
          "metadata": {},
          "execution_count": 31
        }
      ]
    },
    {
      "cell_type": "code",
      "source": [
        "std_dev = np.std(word_counts).round(2)\n",
        "mean = np.mean(word_counts).round(2)\n",
        "std_dev, mean"
      ],
      "metadata": {
        "colab": {
          "base_uri": "https://localhost:8080/"
        },
        "id": "scSzbzqlpHps",
        "outputId": "517bfbbc-abf8-4b9a-9812-58b6b282cd51"
      },
      "execution_count": null,
      "outputs": [
        {
          "output_type": "execute_result",
          "data": {
            "text/plain": [
              "(15.39, 26.34)"
            ]
          },
          "metadata": {},
          "execution_count": 32
        }
      ]
    },
    {
      "cell_type": "code",
      "source": [
        "# #Normalizing Values (Optional)\n",
        "# normalized_wc = [(x - mean)/std_dev for x in word_counts]\n",
        "# normalized_wc"
      ],
      "metadata": {
        "id": "Pxk2s73rqcPD"
      },
      "execution_count": null,
      "outputs": []
    },
    {
      "cell_type": "code",
      "source": [
        "sns.displot(kind='hist',bins=40,data=word_counts,aspect=2,)"
      ],
      "metadata": {
        "colab": {
          "base_uri": "https://localhost:8080/",
          "height": 370
        },
        "id": "no61QWXKqy7T",
        "outputId": "8ec6dfdd-2eca-4dda-e09e-598c86eb8f1d"
      },
      "execution_count": null,
      "outputs": [
        {
          "output_type": "execute_result",
          "data": {
            "text/plain": [
              "<seaborn.axisgrid.FacetGrid at 0x7fe090dccb10>"
            ]
          },
          "metadata": {},
          "execution_count": 34
        },
        {
          "output_type": "display_data",
          "data": {
            "image/png": "[encoded data removed]",
            "text/plain": [
              "<Figure size 720x360 with 1 Axes>"
            ]
          },
          "metadata": {
            "needs_background": "light"
          }
        }
      ]
    },
    {
      "cell_type": "code",
      "source": [
        "#What is the value for 95% of our word_counts\n",
        "percent_95_value = np.percentile(word_counts,95).astype(int)\n",
        "percent_95_value"
      ],
      "metadata": {
        "colab": {
          "base_uri": "https://localhost:8080/"
        },
        "id": "yIRkgCM3saJb",
        "outputId": "dec17ea8-5eeb-4c21-c28e-4d43085fb3c3"
      },
      "execution_count": null,
      "outputs": [
        {
          "output_type": "execute_result",
          "data": {
            "text/plain": [
              "55"
            ]
          },
          "metadata": {},
          "execution_count": 35
        }
      ]
    },
    {
      "cell_type": "markdown",
      "source": [
        "## Tokenization and Embedding\n",
        "For Tokenization we'll create as `TextVetorization` layer (map each word to a numeric_value)\n",
        "\n",
        "For embedding we'll create a `Embedding` layer that creates **n** feature columns for each tokenized word"
      ],
      "metadata": {
        "id": "1ZT5-vVGuEYS"
      }
    },
    {
      "cell_type": "markdown",
      "source": [
        "### Tokenization"
      ],
      "metadata": {
        "id": "5HIuF2-nxelx"
      }
    },
    {
      "cell_type": "code",
      "source": [
        "from tensorflow.keras.layers import TextVectorization"
      ],
      "metadata": {
        "id": "TBrWKe0t3BTP"
      },
      "execution_count": null,
      "outputs": []
    },
    {
      "cell_type": "code",
      "source": [
        "max_tokens = 68000\n",
        "output_seq_length = 55"
      ],
      "metadata": {
        "id": "gjrQ3FuW2tVO"
      },
      "execution_count": null,
      "outputs": []
    },
    {
      "cell_type": "code",
      "source": [
        "#create a text vetorization layer\n",
        "text_vectorizer = TextVectorization(max_tokens=max_tokens,\n",
        "                                    output_sequence_length=output_seq_length,\n",
        "                                    name='text_vectorizer')"
      ],
      "metadata": {
        "id": "36GV_qb82__n"
      },
      "execution_count": null,
      "outputs": []
    },
    {
      "cell_type": "code",
      "source": [
        "#adapt text vectorizer to training sentences\n",
        "text_vectorizer.adapt(X_train)"
      ],
      "metadata": {
        "id": "JrDvAplF3nDG"
      },
      "execution_count": null,
      "outputs": []
    },
    {
      "cell_type": "code",
      "source": [
        "text_vectorizer.get_config()"
      ],
      "metadata": {
        "colab": {
          "base_uri": "https://localhost:8080/"
        },
        "id": "6WmeyvRm4PKP",
        "outputId": "71f1a7e2-233d-4872-e18c-12e309e5938a"
      },
      "execution_count": null,
      "outputs": [
        {
          "output_type": "execute_result",
          "data": {
            "text/plain": [
              "{'batch_input_shape': (None,),\n",
              " 'dtype': 'string',\n",
              " 'idf_weights': None,\n",
              " 'max_tokens': 68000,\n",
              " 'name': 'text_vectorizer',\n",
              " 'ngrams': None,\n",
              " 'output_mode': 'int',\n",
              " 'output_sequence_length': 55,\n",
              " 'pad_to_max_tokens': False,\n",
              " 'ragged': False,\n",
              " 'sparse': False,\n",
              " 'split': 'whitespace',\n",
              " 'standardize': 'lower_and_strip_punctuation',\n",
              " 'trainable': True,\n",
              " 'vocabulary': None}"
            ]
          },
          "metadata": {},
          "execution_count": 40
        }
      ]
    },
    {
      "cell_type": "code",
      "source": [
        "rct_20k_vocab = text_vectorizer.get_vocabulary()\n",
        "len(rct_20k_vocab)"
      ],
      "metadata": {
        "colab": {
          "base_uri": "https://localhost:8080/"
        },
        "id": "1EGf0H6o84jV",
        "outputId": "82257924-4136-4956-a882-732d504d8e68"
      },
      "execution_count": null,
      "outputs": [
        {
          "output_type": "execute_result",
          "data": {
            "text/plain": [
              "64841"
            ]
          },
          "metadata": {},
          "execution_count": 41
        }
      ]
    },
    {
      "cell_type": "code",
      "source": [
        "rct_20k_vocab[:5],rct_20k_vocab[-5:]"
      ],
      "metadata": {
        "colab": {
          "base_uri": "https://localhost:8080/"
        },
        "id": "ipU1x4AE9xLU",
        "outputId": "c6f42b61-0e5a-45ba-c9e7-ce8377cac95d"
      },
      "execution_count": null,
      "outputs": [
        {
          "output_type": "execute_result",
          "data": {
            "text/plain": [
              "(['', '[UNK]', 'the', 'and', 'of'],\n",
              " ['aainduced', 'aaigroup', 'aachener', 'aachen', 'aaacp'])"
            ]
          },
          "metadata": {},
          "execution_count": 42
        }
      ]
    },
    {
      "cell_type": "markdown",
      "source": [
        "### Embedding Layer"
      ],
      "metadata": {
        "id": "j4qBgMBE4aNm"
      }
    },
    {
      "cell_type": "code",
      "source": [
        "from tensorflow.keras.layers import Embedding"
      ],
      "metadata": {
        "id": "0BWQtnpv6fBO"
      },
      "execution_count": null,
      "outputs": []
    },
    {
      "cell_type": "code",
      "source": [
        "embedding_layer = Embedding(input_dim=len(rct_20k_vocab),\n",
        "                            output_dim=128,\n",
        "                            mask_zero=True,\n",
        "                            name='token_embeding')"
      ],
      "metadata": {
        "id": "vowDw_MH6Xc9"
      },
      "execution_count": null,
      "outputs": []
    },
    {
      "cell_type": "code",
      "source": [
        "embedding_layer(text_vectorizer('http://www.clinicaltrials.gov .'))"
      ],
      "metadata": {
        "colab": {
          "base_uri": "https://localhost:8080/"
        },
        "id": "a-pO96Xv7Xod",
        "outputId": "e1489195-efdb-4cd8-9833-3da1bbaaa674"
      },
      "execution_count": null,
      "outputs": [
        {
          "output_type": "execute_result",
          "data": {
            "text/plain": [
              "<tf.Tensor: shape=(55, 128), dtype=float32, numpy=\n",
              "array([[ 0.04846713,  0.00470067, -0.02268248, ..., -0.00886225,\n",
              "        -0.02665625,  0.03675624],\n",
              "       [ 0.04933797,  0.0113845 ,  0.01327604, ..., -0.01525088,\n",
              "         0.00911081,  0.01648683],\n",
              "       [ 0.04933797,  0.0113845 ,  0.01327604, ..., -0.01525088,\n",
              "         0.00911081,  0.01648683],\n",
              "       ...,\n",
              "       [ 0.04933797,  0.0113845 ,  0.01327604, ..., -0.01525088,\n",
              "         0.00911081,  0.01648683],\n",
              "       [ 0.04933797,  0.0113845 ,  0.01327604, ..., -0.01525088,\n",
              "         0.00911081,  0.01648683],\n",
              "       [ 0.04933797,  0.0113845 ,  0.01327604, ..., -0.01525088,\n",
              "         0.00911081,  0.01648683]], dtype=float32)>"
            ]
          },
          "metadata": {},
          "execution_count": 45
        }
      ]
    },
    {
      "cell_type": "markdown",
      "source": [
        "## Creating Datsets From Tensor Slices\n",
        "To ensure faster compuataion and load and process data from GPU"
      ],
      "metadata": {
        "id": "b47z51EtUlgq"
      }
    },
    {
      "cell_type": "code",
      "source": [
        "train_dataset = tf.data.Dataset.from_tensor_slices((X_train,y_train_one_hot))\n",
        "valid_dataset = tf.data.Dataset.from_tensor_slices((X_valid,y_valid_one_hot))\n",
        "test_dataset = tf.data.Dataset.from_tensor_slices((X_test,y_test_one_hot))"
      ],
      "metadata": {
        "id": "INSrc2K47h2l"
      },
      "execution_count": null,
      "outputs": []
    },
    {
      "cell_type": "code",
      "source": [
        "train_dataset = train_dataset.batch(32).prefetch(tf.data.AUTOTUNE)\n",
        "valid_dataset = valid_dataset.batch(32).prefetch(tf.data.AUTOTUNE)\n",
        "test_dataset = test_dataset.batch(32).prefetch(tf.data.AUTOTUNE)"
      ],
      "metadata": {
        "id": "PuTzXn1nVa-E"
      },
      "execution_count": null,
      "outputs": []
    },
    {
      "cell_type": "markdown",
      "source": [
        "## Model_1 : Conv1D Model"
      ],
      "metadata": {
        "id": "ZtbApCyaV0LO"
      }
    },
    {
      "cell_type": "code",
      "source": [
        "from tensorflow.keras import Model\n",
        "from tensorflow.keras.layers import Input,GlobalAveragePooling1D,Conv1D,Dense"
      ],
      "metadata": {
        "id": "CRQIlzAYYCzr"
      },
      "execution_count": null,
      "outputs": []
    },
    {
      "cell_type": "code",
      "source": [
        "#Build The Model\n",
        "inputs = Input(shape=(1,),dtype='string')\n",
        "x = text_vectorizer(inputs)\n",
        "x = embedding_layer(x)\n",
        "x = Conv1D(64,5,padding='same',activation='relu')(x)\n",
        "x = GlobalAveragePooling1D()(x)\n",
        "outputs = Dense(len(class_names),activation='softmax')(x)\n",
        "\n",
        "model_1 = Model(inputs,outputs)"
      ],
      "metadata": {
        "id": "VoIj0HuvWYss"
      },
      "execution_count": null,
      "outputs": []
    },
    {
      "cell_type": "code",
      "source": [
        "model_1.summary()"
      ],
      "metadata": {
        "colab": {
          "base_uri": "https://localhost:8080/"
        },
        "id": "NKUiMZiIZvkr",
        "outputId": "8a395ce6-00fd-42cf-ed86-e1de68119357"
      },
      "execution_count": null,
      "outputs": [
        {
          "output_type": "stream",
          "name": "stdout",
          "text": [
            "Model: \"model\"\n",
            "_________________________________________________________________\n",
            " Layer (type)                Output Shape              Param #   \n",
            "=================================================================\n",
            " input_1 (InputLayer)        [(None, 1)]               0         \n",
            "                                                                 \n",
            " text_vectorizer (TextVector  (None, 55)               0         \n",
            " ization)                                                        \n",
            "                                                                 \n",
            " token_embeding (Embedding)  (None, 55, 128)           8299648   \n",
            "                                                                 \n",
            " conv1d (Conv1D)             (None, 55, 64)            41024     \n",
            "                                                                 \n",
            " global_average_pooling1d (G  (None, 64)               0         \n",
            " lobalAveragePooling1D)                                          \n",
            "                                                                 \n",
            " dense (Dense)               (None, 5)                 325       \n",
            "                                                                 \n",
            "=================================================================\n",
            "Total params: 8,340,997\n",
            "Trainable params: 8,340,997\n",
            "Non-trainable params: 0\n",
            "_________________________________________________________________\n"
          ]
        }
      ]
    },
    {
      "cell_type": "code",
      "source": [
        "#Compile The Model\n",
        "model_1.compile('adam','categorical_crossentropy',['accuracy'])"
      ],
      "metadata": {
        "id": "gXTdTcIFZ2vb"
      },
      "execution_count": null,
      "outputs": []
    },
    {
      "cell_type": "code",
      "source": [
        "def tensorboard_cb(dir_name='logs',experiment_name=None):\n",
        "  '''\n",
        "  Creates TensorBoard Callback in path /[dir_name]/[experiment_name]\n",
        "  Returns Callback\n",
        "  '''\n",
        "  from os import getcwd\n",
        "  from os.path import join,split\n",
        "  from datetime import datetime\n",
        "  from tensorflow.keras import callbacks\n",
        "  log_dir = join(getcwd(),dir_name,experiment_name,datetime.now().strftime(\"%Y%m%d-%H%M%S\"))\n",
        "  print('Saving TensorBoard log files to:',log_dir)\n",
        "  tb_cb = callbacks.TensorBoard(log_dir=log_dir) \n",
        "  return tb_cb"
      ],
      "metadata": {
        "id": "F7FAbehCbXwa"
      },
      "execution_count": null,
      "outputs": []
    },
    {
      "cell_type": "code",
      "source": [
        "histroy_1 = model_1.fit(train_dataset,\n",
        "                        epochs=3,\n",
        "                        steps_per_epoch=int(0.1*len(train_dataset)),\n",
        "                        validation_data = valid_dataset,\n",
        "                        validation_steps = int(0.1*len(valid_dataset)),\n",
        "                        callbacks = [tensorboard_cb('logs','model_1')]\n",
        "                        )"
      ],
      "metadata": {
        "colab": {
          "base_uri": "https://localhost:8080/"
        },
        "id": "lbVfkAylcRdj",
        "outputId": "6e897315-cec4-46f8-ada3-5f904931a543"
      },
      "execution_count": null,
      "outputs": [
        {
          "output_type": "stream",
          "name": "stdout",
          "text": [
            "Saving TensorBoard log files to: /content/logs/model_1/20220128-054413\n",
            "Epoch 1/3\n",
            "562/562 [==============================] - 16s 9ms/step - loss: 0.9095 - accuracy: 0.6421 - val_loss: 0.6825 - val_accuracy: 0.7400\n",
            "Epoch 2/3\n",
            "562/562 [==============================] - 5s 9ms/step - loss: 0.6573 - accuracy: 0.7580 - val_loss: 0.6278 - val_accuracy: 0.7733\n",
            "Epoch 3/3\n",
            "562/562 [==============================] - 5s 9ms/step - loss: 0.6181 - accuracy: 0.7735 - val_loss: 0.5955 - val_accuracy: 0.7832\n"
          ]
        }
      ]
    },
    {
      "cell_type": "code",
      "source": [
        "y_pred_1 = model_1.predict(valid_dataset)\n",
        "y_pred_1"
      ],
      "metadata": {
        "colab": {
          "base_uri": "https://localhost:8080/"
        },
        "id": "Dlkpp-4kcj5S",
        "outputId": "6f03aeb0-97a7-4cf9-ac33-7fdd5fc835b7"
      },
      "execution_count": null,
      "outputs": [
        {
          "output_type": "execute_result",
          "data": {
            "text/plain": [
              "array([[4.1875425e-01, 1.8750419e-01, 8.5194923e-02, 2.7276108e-01,\n",
              "        3.5785537e-02],\n",
              "       [4.6869546e-01, 2.5103265e-01, 1.5867416e-02, 2.5626743e-01,\n",
              "        8.1370892e-03],\n",
              "       [1.1463287e-01, 6.1766440e-03, 1.3764224e-03, 8.7776852e-01,\n",
              "        4.5508161e-05],\n",
              "       ...,\n",
              "       [2.7852050e-06, 4.6747303e-04, 4.9378193e-04, 1.5090609e-06,\n",
              "        9.9903452e-01],\n",
              "       [5.9893474e-02, 4.6015605e-01, 1.0960206e-01, 6.9039851e-02,\n",
              "        3.0130854e-01],\n",
              "       [1.7284784e-01, 6.8157822e-01, 3.6557864e-02, 4.2237505e-02,\n",
              "        6.6778556e-02]], dtype=float32)"
            ]
          },
          "metadata": {},
          "execution_count": 54
        }
      ]
    },
    {
      "cell_type": "code",
      "source": [
        "y_pred_1 = tf.argmax(y_pred_1,axis=1)\n",
        "y_pred_1"
      ],
      "metadata": {
        "colab": {
          "base_uri": "https://localhost:8080/"
        },
        "id": "tMDLpaYni_wI",
        "outputId": "24693729-74a7-428a-a217-3a7347cb272b"
      },
      "execution_count": null,
      "outputs": [
        {
          "output_type": "execute_result",
          "data": {
            "text/plain": [
              "<tf.Tensor: shape=(30212,), dtype=int64, numpy=array([0, 0, 3, ..., 4, 1, 1])>"
            ]
          },
          "metadata": {},
          "execution_count": 55
        }
      ]
    },
    {
      "cell_type": "code",
      "source": [
        "model_1_results = evaluate(y_valid_encoded,y_pred_1)\n",
        "model_1_results"
      ],
      "metadata": {
        "colab": {
          "base_uri": "https://localhost:8080/"
        },
        "id": "h8KizaaYjQtQ",
        "outputId": "a802b34f-a90a-403a-ed01-7385e77acbc0"
      },
      "execution_count": null,
      "outputs": [
        {
          "output_type": "execute_result",
          "data": {
            "text/plain": [
              "{'accuracy': 0.7865417714815305,\n",
              " 'f1': 0.7839579311134398,\n",
              " 'precison': 0.7828393631891928,\n",
              " 'recall': 0.7865417714815305}"
            ]
          },
          "metadata": {},
          "execution_count": 56
        }
      ]
    },
    {
      "cell_type": "markdown",
      "source": [
        "## Model_2 : Feature Extraction with Pretrained Token Embedding Layer\n",
        "\n",
        "***Neural Networks For Joint Sentence Classifications*** :-\n",
        "https://arxiv.org/pdf/1612.05251.pdf\n",
        "\n",
        "***GloVe : Global Vectorizer*** :-\n",
        "https://nlp.stanford.edu/projects/glove/"
      ],
      "metadata": {
        "id": "YOgTP2hijWBI"
      }
    },
    {
      "cell_type": "markdown",
      "source": [
        "<img src='https://camo.githubusercontent.com/5ce1d1627c46bb2913a6eab6642f02282bed99afb9b5efb0089ec304785a2b77/68747470733a2f2f7261772e67697468756275736572636f6e74656e742e636f6d2f6d7264626f75726b652f74656e736f72666c6f772d646565702d6c6561726e696e672f6d61696e2f696d616765732f30392d6d6f64656c2d74662d6875622d5553452d746f2d64656e73652d6c617965722e706e67'/>"
      ],
      "metadata": {
        "id": "RGTsmmWNMqt8"
      }
    },
    {
      "cell_type": "markdown",
      "source": [
        "For feature extraction we'll use **USE (Universal Sentence Encoder)** from our `tensorflow_hub`\n",
        "USE takes a input sequence of string of text and outputs a 512 feature columns for each sequence"
      ],
      "metadata": {
        "id": "RQDS8pYWLriO"
      }
    },
    {
      "cell_type": "code",
      "source": [
        "import tensorflow_hub as hub"
      ],
      "metadata": {
        "id": "_CWr-nIEMjs3"
      },
      "execution_count": null,
      "outputs": []
    },
    {
      "cell_type": "code",
      "source": [
        "USE_layer = hub.KerasLayer('https://tfhub.dev/google/universal-sentence-encoder/4',\n",
        "                           trainable=False,\n",
        "                           name='USE_layer')"
      ],
      "metadata": {
        "id": "o2nrmQHzPX39"
      },
      "execution_count": null,
      "outputs": []
    },
    {
      "cell_type": "code",
      "source": [
        "#Test The USE layer\n",
        "text = np.random.choice(X_train)\n",
        "print('Original Sentence :\\t',text)\n",
        "encoded_text = USE_layer([text])\n",
        "print('\\nAfter Encoding With USE :\\t',encoded_text[0][:5])\n",
        "print('Shape :\\t',encoded_text.shape)"
      ],
      "metadata": {
        "colab": {
          "base_uri": "https://localhost:8080/"
        },
        "id": "RGGQt2l1Q3q8",
        "outputId": "6f93760b-63d5-4a0c-e851-bec231cc7057"
      },
      "execution_count": null,
      "outputs": [
        {
          "output_type": "stream",
          "name": "stdout",
          "text": [
            "Original Sentence :\t @ patients had a successful cardioversion and @ of the study group remained in sinus rhythm at day @ .\n",
            "\n",
            "After Encoding With USE :\t tf.Tensor([-0.05965352  0.03921873 -0.02572913  0.02492845  0.00964979], shape=(5,), dtype=float32)\n",
            "Shape :\t (1, 512)\n"
          ]
        }
      ]
    },
    {
      "cell_type": "code",
      "source": [
        "#Create the model with USE embedding \n",
        "inputs  =Input(shape=[],dtype='string')\n",
        "x = USE_layer(inputs)\n",
        "x = Dense(128,activation='relu')(x)\n",
        "x = Dense(32,activation='relu')(x)\n",
        "outputs = Dense(len(class_names),activation='softmax')(x)\n",
        "\n",
        "model_2 = Model(inputs,outputs,name='model_2_use')"
      ],
      "metadata": {
        "id": "NvkK98ZxSCGs"
      },
      "execution_count": null,
      "outputs": []
    },
    {
      "cell_type": "code",
      "source": [
        "model_2.summary()"
      ],
      "metadata": {
        "colab": {
          "base_uri": "https://localhost:8080/"
        },
        "id": "6wpHVsDZUK67",
        "outputId": "f0f9af9b-071e-42cd-932a-11f1ab97230d"
      },
      "execution_count": null,
      "outputs": [
        {
          "output_type": "stream",
          "name": "stdout",
          "text": [
            "Model: \"model_2_use\"\n",
            "_________________________________________________________________\n",
            " Layer (type)                Output Shape              Param #   \n",
            "=================================================================\n",
            " input_2 (InputLayer)        [(None,)]                 0         \n",
            "                                                                 \n",
            " USE_layer (KerasLayer)      (None, 512)               256797824 \n",
            "                                                                 \n",
            " dense_1 (Dense)             (None, 128)               65664     \n",
            "                                                                 \n",
            " dense_2 (Dense)             (None, 32)                4128      \n",
            "                                                                 \n",
            " dense_3 (Dense)             (None, 5)                 165       \n",
            "                                                                 \n",
            "=================================================================\n",
            "Total params: 256,867,781\n",
            "Trainable params: 69,957\n",
            "Non-trainable params: 256,797,824\n",
            "_________________________________________________________________\n"
          ]
        }
      ]
    },
    {
      "cell_type": "code",
      "source": [
        "model_2.compile('adam','categorical_crossentropy',['accuracy'])"
      ],
      "metadata": {
        "id": "ARbUw985Up2z"
      },
      "execution_count": null,
      "outputs": []
    },
    {
      "cell_type": "code",
      "source": [
        "history_2 = model_2.fit(train_dataset,\n",
        "                        epochs=3,\n",
        "                        steps_per_epoch=int(0.1*len(train_dataset)),\n",
        "                        validation_data=valid_dataset,\n",
        "                        validation_steps=int(0.1*len(valid_dataset)),\n",
        "                        callbacks=[tensorboard_cb('logs','model_2_USE')])"
      ],
      "metadata": {
        "colab": {
          "base_uri": "https://localhost:8080/"
        },
        "id": "xxi69jdgVKCD",
        "outputId": "44e20145-91a8-4885-96c4-4f0ecaf94c2e"
      },
      "execution_count": null,
      "outputs": [
        {
          "output_type": "stream",
          "name": "stdout",
          "text": [
            "Saving TensorBoard log files to: /content/logs/model_2_USE/20220128-054457\n",
            "Epoch 1/3\n",
            "562/562 [==============================] - 11s 15ms/step - loss: 0.9044 - accuracy: 0.6507 - val_loss: 0.7950 - val_accuracy: 0.6915\n",
            "Epoch 2/3\n",
            "562/562 [==============================] - 8s 14ms/step - loss: 0.7539 - accuracy: 0.7075 - val_loss: 0.7306 - val_accuracy: 0.7121\n",
            "Epoch 3/3\n",
            "562/562 [==============================] - 8s 14ms/step - loss: 0.7255 - accuracy: 0.7212 - val_loss: 0.7013 - val_accuracy: 0.7264\n"
          ]
        }
      ]
    },
    {
      "cell_type": "code",
      "source": [
        "y_pred_2 = model_2.predict(valid_dataset)\n",
        "y_pred_2, y_pred_2.shape"
      ],
      "metadata": {
        "colab": {
          "base_uri": "https://localhost:8080/"
        },
        "id": "d219-OHIV2US",
        "outputId": "60854713-bb78-44d6-db59-7fd3e99a8204"
      },
      "execution_count": null,
      "outputs": [
        {
          "output_type": "execute_result",
          "data": {
            "text/plain": [
              "(array([[5.1018620e-01, 2.7125272e-01, 2.4597363e-03, 2.1018259e-01,\n",
              "         5.9187566e-03],\n",
              "        [3.2845998e-01, 5.2580768e-01, 3.5417322e-03, 1.3988696e-01,\n",
              "         2.3036823e-03],\n",
              "        [2.1804388e-01, 4.3518402e-02, 1.8218327e-02, 6.9969046e-01,\n",
              "         2.0528907e-02],\n",
              "        ...,\n",
              "        [1.4918650e-03, 3.4079717e-03, 3.6859822e-02, 6.6502183e-04,\n",
              "         9.5757532e-01],\n",
              "        [4.1257842e-03, 4.7421303e-02, 2.2921894e-01, 1.9709838e-03,\n",
              "         7.1726298e-01],\n",
              "        [2.3771915e-01, 4.4152203e-01, 2.8322214e-01, 9.9116359e-03,\n",
              "         2.7625008e-02]], dtype=float32), (30212, 5))"
            ]
          },
          "metadata": {},
          "execution_count": 64
        }
      ]
    },
    {
      "cell_type": "code",
      "source": [
        "y_pred_2 = np.argmax(y_pred_2,axis=1)\n",
        "y_pred_2"
      ],
      "metadata": {
        "colab": {
          "base_uri": "https://localhost:8080/"
        },
        "id": "F81FxKTJWPAq",
        "outputId": "0e9d0533-7d73-4792-ce30-00b454b7f3c3"
      },
      "execution_count": null,
      "outputs": [
        {
          "output_type": "execute_result",
          "data": {
            "text/plain": [
              "array([0, 1, 3, ..., 4, 4, 1])"
            ]
          },
          "metadata": {},
          "execution_count": 65
        }
      ]
    },
    {
      "cell_type": "code",
      "source": [
        "model_2_results = evaluate(y_valid_encoded,y_pred_2)\n",
        "model_2_results"
      ],
      "metadata": {
        "colab": {
          "base_uri": "https://localhost:8080/"
        },
        "id": "9iyE0LmmWYCy",
        "outputId": "aa0cfd7c-4561-4941-c0ac-4d01db1557a0"
      },
      "execution_count": null,
      "outputs": [
        {
          "output_type": "execute_result",
          "data": {
            "text/plain": [
              "{'accuracy': 0.7285515689130146,\n",
              " 'f1': 0.7273852082067485,\n",
              " 'precison': 0.7292649254707514,\n",
              " 'recall': 0.7285515689130146}"
            ]
          },
          "metadata": {},
          "execution_count": 66
        }
      ]
    },
    {
      "cell_type": "markdown",
      "source": [
        "## Character-Level Embedding\n",
        "For Each Character we'll create a token.\n",
        "So,we'll have a token per character for each sequence\n",
        "<img src='https://camo.githubusercontent.com/a8f036b4aae49b4038817b7ead978cf84dec304c7d1322e0575f9a16757f920f/68747470733a2f2f7261772e67697468756275736572636f6e74656e742e636f6d2f6d7264626f75726b652f74656e736f72666c6f772d646565702d6c6561726e696e672f6d61696e2f696d616765732f30392d746f6b656e2d76732d6368617261637465722d656d62656464696e67732e706e67' style=\"width':100vw;height:100vh\"/>"
      ],
      "metadata": {
        "id": "-fTjj-LBW3BS"
      }
    },
    {
      "cell_type": "markdown",
      "source": [
        "### Creating Character-level tokenized Datasets"
      ],
      "metadata": {
        "id": "QBvSyfTcT19c"
      }
    },
    {
      "cell_type": "code",
      "source": [
        "#Fuction to split each word into characters\n",
        "def split_text(text):\n",
        "  return ' '.join(list(text))"
      ],
      "metadata": {
        "id": "vmMZLg1uXJVy"
      },
      "execution_count": null,
      "outputs": []
    },
    {
      "cell_type": "code",
      "source": [
        "#Convert out text sequenced data into character-level sequenced data\n",
        "X_train_char = [split_text(text) for text in X_train]\n",
        "X_valid_char = [split_text(text) for text in X_valid]\n",
        "X_test_char = [split_text(text) for text in X_test]"
      ],
      "metadata": {
        "id": "Jmb1U9A8YpoS"
      },
      "execution_count": null,
      "outputs": []
    },
    {
      "cell_type": "code",
      "source": [
        "#Lengths of charaters per sequence for each dataset\n",
        "X_train_char_lengths = [len(x.split()) for x in X_train_char]\n",
        "X_valid_char_lengths = [len(x.split()) for x in X_valid_char]\n",
        "X_test_char_lengths = [len(x.split()) for x in X_test_char]"
      ],
      "metadata": {
        "id": "HMVdKdZPjoBe"
      },
      "execution_count": null,
      "outputs": []
    },
    {
      "cell_type": "code",
      "source": [
        "#Check th Distribution of Character lengths for the training data\n",
        "sns.displot(X_train_char_lengths,aspect=4,bins=45,palette='Dark2');"
      ],
      "metadata": {
        "colab": {
          "base_uri": "https://localhost:8080/",
          "height": 183
        },
        "id": "hX8Lfm_InZnd",
        "outputId": "3d2e33fa-0d64-4551-a680-8ac027c2eda0"
      },
      "execution_count": null,
      "outputs": [
        {
          "output_type": "display_data",
          "data": {
            "image/png": "[encoded data removed]",
            "text/plain": [
              "<Figure size 1440x360 with 1 Axes>"
            ]
          },
          "metadata": {
            "needs_background": "light"
          }
        }
      ]
    },
    {
      "cell_type": "code",
      "source": [
        "#Charater Length for 95 percent of our train data\n",
        "char_length_95_percent = int(np.percentile(X_train_char_lengths,95))\n",
        "char_length_95_percent"
      ],
      "metadata": {
        "colab": {
          "base_uri": "https://localhost:8080/"
        },
        "id": "I4NilgE3m2D9",
        "outputId": "74538fb0-0750-4e72-c80b-dc81f69a5232"
      },
      "execution_count": null,
      "outputs": [
        {
          "output_type": "execute_result",
          "data": {
            "text/plain": [
              "239"
            ]
          },
          "metadata": {},
          "execution_count": 71
        }
      ]
    },
    {
      "cell_type": "code",
      "source": [
        "#Get the total characters length\n",
        "import string\n",
        "char_list = string.ascii_lowercase + string.digits + string.punctuation\n",
        "max_char_tokens = len(char_list)"
      ],
      "metadata": {
        "id": "T0zjARDspJ81"
      },
      "execution_count": null,
      "outputs": []
    },
    {
      "cell_type": "code",
      "source": [
        "#Create vetorizer layer for char-level embedding\n",
        "char_vectorizer = TextVectorization(max_tokens=max_char_tokens,\n",
        "                                    output_sequence_length=char_length_95_percent,\n",
        "                                    standardize=None,\n",
        "                                    name='char_vetorizer')"
      ],
      "metadata": {
        "id": "YsqNeFDYqT6E"
      },
      "execution_count": null,
      "outputs": []
    },
    {
      "cell_type": "code",
      "source": [
        "#Adapted char_vectorizer to training instances\n",
        "char_vectorizer.adapt(X_train_char)"
      ],
      "metadata": {
        "id": "pMqZFZwetyrT"
      },
      "execution_count": null,
      "outputs": []
    },
    {
      "cell_type": "code",
      "source": [
        "#Check Character Vocabulary\n",
        "char_vocab = char_vectorizer.get_vocabulary()\n",
        "print('Number of Different Characters :\\t',len(char_vocab))\n",
        "print('\\Most common Characters :\\t',char_vocab[:5])\n",
        "print('Least Common Characters :\\t',char_vocab[-5:])"
      ],
      "metadata": {
        "colab": {
          "base_uri": "https://localhost:8080/"
        },
        "id": "tODv_e_Vt_Yb",
        "outputId": "72946d5e-7dc6-4683-8314-85c70719a63a"
      },
      "execution_count": null,
      "outputs": [
        {
          "output_type": "stream",
          "name": "stdout",
          "text": [
            "Number of Different Characters :\t 68\n",
            "\\Most common Characters :\t ['', '[UNK]', 'e', 't', 'i']\n",
            "Least Common Characters :\t ['+', 'X', '`', '>', 'J']\n"
          ]
        }
      ]
    },
    {
      "cell_type": "markdown",
      "source": [
        "### Char-Level embedding Layer"
      ],
      "metadata": {
        "id": "0N2mrhqyvRja"
      }
    },
    {
      "cell_type": "code",
      "source": [
        "#create the embedding layer for char-level embedding\n",
        "char_embedding_layer = Embedding(input_dim=len(char_vocab),\n",
        "                                 output_dim=25,\n",
        "                                 mask_zero=False,\n",
        "                                 name='char_embedding_layer')"
      ],
      "metadata": {
        "id": "y33fltajvVUy"
      },
      "execution_count": null,
      "outputs": []
    },
    {
      "cell_type": "code",
      "source": [
        "#Test the vectorizer layer and embedding\n",
        "text = np.random.choice(X_train_char)\n",
        "print(f'Text Before Vectorization :\\n{text}')\n",
        "text_vectorized = char_vectorizer([text])\n",
        "print('\\nText After Vectorization :\\t',text_vectorized)\n",
        "print('\\nShape :\\n',text_vectorized.shape)\n",
        "text_embeded = char_embedding_layer(text_vectorized)\n",
        "print('\\nText After Embedding :\\n',text_embeded)\n",
        "print('\\nShape :\\t',text_embeded.shape)"
      ],
      "metadata": {
        "colab": {
          "base_uri": "https://localhost:8080/"
        },
        "id": "vVaVqQO3vvNi",
        "outputId": "d6943105-608b-4c47-b030-86d23e9abcb0"
      },
      "execution_count": null,
      "outputs": [
        {
          "output_type": "stream",
          "name": "stdout",
          "text": [
            "Text Before Vectorization :\n",
            "H y p o t e n s i o n   i n d u c e d   b y   p l a s m a   t a r g e t - c o n t r o l l e d   i n f u s i o n   o f   p r o p o f o l   c o u l d   m a i n l y   b e   a t t r i b u t e d   t o   d e c r e a s e d   s t r o k e   v o l u m e   i n s t e a d   o f   v a s c u l a r   d i l a t i o n   .\n",
            "\n",
            "Text After Vectorization :\t tf.Tensor(\n",
            "[[46 20 14  7  3  2  6  9  4  7  6  4  6 10 16 12  2 10 23 20 14 11  5  9\n",
            "  15  5  3  5  8 18  2  3 26 12  7  6  3  8  7 11 11  2 10  4  6 17 16  9\n",
            "   4  7  6  7 17 14  8  7 14  7 17  7 11 12  7 16 11 10 15  5  4  6 11 20\n",
            "  23  2  5  3  3  8  4 23 16  3  2 10  3  7 10  2 12  8  2  5  9  2 10  9\n",
            "   3  8  7 35  2 22  7 11 16 15  2  4  6  9  3  2  5 10  7 17 22  5  9 12\n",
            "  16 11  5  8 10  4 11  5  3  4  7  6 25  0  0  0  0  0  0  0  0  0  0  0\n",
            "   0  0  0  0  0  0  0  0  0  0  0  0  0  0  0  0  0  0  0  0  0  0  0  0\n",
            "   0  0  0  0  0  0  0  0  0  0  0  0  0  0  0  0  0  0  0  0  0  0  0  0\n",
            "   0  0  0  0  0  0  0  0  0  0  0  0  0  0  0  0  0  0  0  0  0  0  0  0\n",
            "   0  0  0  0  0  0  0  0  0  0  0  0  0  0  0  0  0  0  0  0  0  0  0]], shape=(1, 239), dtype=int64)\n",
            "\n",
            "Shape :\n",
            " (1, 239)\n",
            "\n",
            "Text After Embedding :\n",
            " tf.Tensor(\n",
            "[[[ 0.04268103  0.007569   -0.03000504 ...  0.00499091 -0.02032484\n",
            "   -0.00128918]\n",
            "  [-0.01197563 -0.0301741  -0.01047661 ... -0.02224141  0.01906766\n",
            "   -0.03450943]\n",
            "  [-0.00411726 -0.04387767  0.04789127 ... -0.0171072  -0.01136317\n",
            "    0.02987302]\n",
            "  ...\n",
            "  [-0.0289809   0.03700641  0.02611387 ...  0.04161363 -0.02911966\n",
            "   -0.03536179]\n",
            "  [-0.0289809   0.03700641  0.02611387 ...  0.04161363 -0.02911966\n",
            "   -0.03536179]\n",
            "  [-0.0289809   0.03700641  0.02611387 ...  0.04161363 -0.02911966\n",
            "   -0.03536179]]], shape=(1, 239, 25), dtype=float32)\n",
            "\n",
            "Shape :\t (1, 239, 25)\n"
          ]
        }
      ]
    },
    {
      "cell_type": "code",
      "source": [
        "#Create datasets for charater-level sequence\n",
        "train_dataset_char = tf.data.Dataset.from_tensor_slices((X_train_char,y_train_one_hot)).batch(32).prefetch(tf.data.AUTOTUNE)\n",
        "valid_dataset_char = tf.data.Dataset.from_tensor_slices((X_valid_char,y_valid_one_hot)).batch(32).prefetch(tf.data.AUTOTUNE)\n",
        "train_dataset_char"
      ],
      "metadata": {
        "colab": {
          "base_uri": "https://localhost:8080/"
        },
        "id": "5Syzs1sGZcAa",
        "outputId": "07d1b9b1-fbcf-4d9e-b85e-605fcc1d1b60"
      },
      "execution_count": null,
      "outputs": [
        {
          "output_type": "execute_result",
          "data": {
            "text/plain": [
              "<PrefetchDataset shapes: ((None,), (None, 5)), types: (tf.string, tf.float64)>"
            ]
          },
          "metadata": {},
          "execution_count": 78
        }
      ]
    },
    {
      "cell_type": "markdown",
      "source": [
        "## Model_2 : Conv1D with Char-level embedding"
      ],
      "metadata": {
        "id": "KPpBzUEkjJMu"
      }
    },
    {
      "cell_type": "code",
      "source": [
        "from tensorflow.keras.layers import GlobalMaxPooling1D"
      ],
      "metadata": {
        "id": "P4396w1x2fiw"
      },
      "execution_count": null,
      "outputs": []
    },
    {
      "cell_type": "code",
      "source": [
        "#Conv1D Moel with char-level emedding\n",
        "inputs = Input(shape=(1,),dtype='string')\n",
        "x = char_vectorizer(inputs)\n",
        "x = char_embedding_layer(x)\n",
        "x = Conv1D(64,5,padding='same',activation='relu')(x)\n",
        "x = GlobalMaxPooling1D()(x)\n",
        "outputs = Dense(len(class_names),activation='softmax')(x)\n",
        "\n",
        "model_3 = Model(inputs,outputs)"
      ],
      "metadata": {
        "id": "2xTUIh-UjTxx"
      },
      "execution_count": null,
      "outputs": []
    },
    {
      "cell_type": "code",
      "source": [
        "#compile the model\n",
        "model_3.compile('adam','categorical_crossentropy',['accuracy'])"
      ],
      "metadata": {
        "id": "yYT1yPOgyn9y"
      },
      "execution_count": null,
      "outputs": []
    },
    {
      "cell_type": "code",
      "source": [
        "model_3.summary()"
      ],
      "metadata": {
        "colab": {
          "base_uri": "https://localhost:8080/"
        },
        "id": "U9F0CHNwy0Ga",
        "outputId": "9f306493-c505-4343-ceb7-65514086f36a"
      },
      "execution_count": null,
      "outputs": [
        {
          "output_type": "stream",
          "name": "stdout",
          "text": [
            "Model: \"model_1\"\n",
            "_________________________________________________________________\n",
            " Layer (type)                Output Shape              Param #   \n",
            "=================================================================\n",
            " input_3 (InputLayer)        [(None, 1)]               0         \n",
            "                                                                 \n",
            " char_vetorizer (TextVectori  (None, 239)              0         \n",
            " zation)                                                         \n",
            "                                                                 \n",
            " char_embedding_layer (Embed  (None, 239, 25)          1700      \n",
            " ding)                                                           \n",
            "                                                                 \n",
            " conv1d_1 (Conv1D)           (None, 239, 64)           8064      \n",
            "                                                                 \n",
            " global_max_pooling1d (Globa  (None, 64)               0         \n",
            " lMaxPooling1D)                                                  \n",
            "                                                                 \n",
            " dense_4 (Dense)             (None, 5)                 325       \n",
            "                                                                 \n",
            "=================================================================\n",
            "Total params: 10,089\n",
            "Trainable params: 10,089\n",
            "Non-trainable params: 0\n",
            "_________________________________________________________________\n"
          ]
        }
      ]
    },
    {
      "cell_type": "code",
      "source": [
        "#fit the model\n",
        "model_3_history = model_3.fit(train_dataset_char,\n",
        "                              epochs=3,\n",
        "                              steps_per_epoch=int(0.1*len(train_dataset_char)),\n",
        "                              validation_data=valid_dataset_char,\n",
        "                              validation_steps=int(0.1*len(valid_dataset_char)),\n",
        "                              callbacks=[tensorboard_cb('logs','model_3_char')]\n",
        "                              )"
      ],
      "metadata": {
        "colab": {
          "base_uri": "https://localhost:8080/"
        },
        "id": "z9AFfpZ9y1Ua",
        "outputId": "c70fce0e-df81-4555-c5a6-302fb79ce2df"
      },
      "execution_count": null,
      "outputs": [
        {
          "output_type": "stream",
          "name": "stdout",
          "text": [
            "Saving TensorBoard log files to: /content/logs/model_3_char/20220128-054617\n",
            "Epoch 1/3\n",
            "562/562 [==============================] - 4s 6ms/step - loss: 1.1655 - accuracy: 0.5386 - val_loss: 0.9449 - val_accuracy: 0.6220\n",
            "Epoch 2/3\n",
            "562/562 [==============================] - 3s 6ms/step - loss: 0.9012 - accuracy: 0.6392 - val_loss: 0.8564 - val_accuracy: 0.6692\n",
            "Epoch 3/3\n",
            "562/562 [==============================] - 3s 6ms/step - loss: 0.8364 - accuracy: 0.6715 - val_loss: 0.7922 - val_accuracy: 0.6975\n"
          ]
        }
      ]
    },
    {
      "cell_type": "code",
      "source": [
        "y_pred_3 = model_3.predict(valid_dataset_char)\n",
        "y_pred_3"
      ],
      "metadata": {
        "colab": {
          "base_uri": "https://localhost:8080/"
        },
        "id": "6qvM9k8tz6OB",
        "outputId": "54a975f3-908b-482c-bf31-974e543ce61c"
      },
      "execution_count": null,
      "outputs": [
        {
          "output_type": "execute_result",
          "data": {
            "text/plain": [
              "array([[0.16457371, 0.47860405, 0.11581622, 0.19595523, 0.0450508 ],\n",
              "       [0.27734062, 0.43881446, 0.01812147, 0.19190343, 0.07381996],\n",
              "       [0.20127961, 0.40501454, 0.09146706, 0.20079173, 0.10144705],\n",
              "       ...,\n",
              "       [0.00505312, 0.00853909, 0.06871442, 0.00538753, 0.9123058 ],\n",
              "       [0.01073295, 0.04312572, 0.42762265, 0.00552955, 0.51298916],\n",
              "       [0.45136374, 0.4365727 , 0.03894185, 0.06923403, 0.00388768]],\n",
              "      dtype=float32)"
            ]
          },
          "metadata": {},
          "execution_count": 84
        }
      ]
    },
    {
      "cell_type": "code",
      "source": [
        "y_pred_3 = tf.argmax(y_pred_3,axis=1)\n",
        "y_pred_3"
      ],
      "metadata": {
        "colab": {
          "base_uri": "https://localhost:8080/"
        },
        "id": "Si1jgnLCJCeT",
        "outputId": "f7223b81-cd10-4fc7-f6fc-00093947fa19"
      },
      "execution_count": null,
      "outputs": [
        {
          "output_type": "execute_result",
          "data": {
            "text/plain": [
              "<tf.Tensor: shape=(30212,), dtype=int64, numpy=array([1, 1, 1, ..., 4, 4, 0])>"
            ]
          },
          "metadata": {},
          "execution_count": 85
        }
      ]
    },
    {
      "cell_type": "code",
      "source": [
        "model_3_results = evaluate(y_valid_encoded,y_pred_3)\n",
        "model_3_results"
      ],
      "metadata": {
        "colab": {
          "base_uri": "https://localhost:8080/"
        },
        "id": "I6cTqC1GJK_M",
        "outputId": "7d0d9044-3432-4036-b4fb-888fa4e2d742"
      },
      "execution_count": null,
      "outputs": [
        {
          "output_type": "execute_result",
          "data": {
            "text/plain": [
              "{'accuracy': 0.6905203230504435,\n",
              " 'f1': 0.6802593894371501,\n",
              " 'precison': 0.6890418903224584,\n",
              " 'recall': 0.6905203230504435}"
            ]
          },
          "metadata": {},
          "execution_count": 86
        }
      ]
    },
    {
      "cell_type": "markdown",
      "source": [
        "## Model_4 : Combining pretrained token embeddings + character embeddings (Hybrid Embedding Layer)\n",
        "This hybrid token embedding layer is a combination of `token_embeddings` and `character_embeddings`. In other words, they create a stacked embedding to represent sequenes before passing them, to the sequence label prediction layer.\n",
        "\n",
        "Steps :-\n",
        "  1. Create a token-level model (similar to model_1)\n",
        "  2. Create a character-level model (similar to model_3) with a slight modification to reflect the the paper.\n",
        "  3. Combine (using `layers.Concatenate`) the outputs of model_1 and model_2\n",
        "  4. Build a series of output layers on top of 3.\n",
        "  5. Construct a model which takes token and character-level sequences as inputs and produces squence level probabilities as output."
      ],
      "metadata": {
        "id": "4CHShMa2JdxD"
      }
    },
    {
      "cell_type": "code",
      "source": [
        "from tensorflow.keras.layers import Bidirectional, Dropout, LSTM, Concatenate"
      ],
      "metadata": {
        "id": "vEH1ZlB0MD2X"
      },
      "execution_count": null,
      "outputs": []
    },
    {
      "cell_type": "code",
      "source": [
        "#1. Set-up token inputs\n",
        "token_inputs = Input(shape=[],dtype=tf.string,name='token_input')\n",
        "token_embeddings = USE_layer(token_inputs)\n",
        "token_dense = Dense(128,activation='relu')(token_embeddings)\n",
        "token_model = Model(inputs=token_inputs,\n",
        "                             outputs=token_dense)\n",
        "\n",
        "#2. Set-up char-level inputs/model\n",
        "char_inputs = Input(shape=(1,),dtype=tf.string,name='char_input')\n",
        "char_vectors = char_vectorizer(char_inputs)\n",
        "char_embeddings = char_embedding_layer(char_vectors)\n",
        "char_bi_lstm = Bidirectional(LSTM(25))(char_embeddings)\n",
        "char_model = Model(inputs=char_inputs,\n",
        "                    outputs=char_bi_lstm)\n",
        "\n",
        "#3. Concatenate token and char inputs (create hybrid layers)\n",
        "token_char_concat = Concatenate(name='token_char_hybrid')([token_model.output,\n",
        "                                                           char_model.output])\n",
        "\n",
        "#4. Create output layer sequences for the concatenated model\n",
        "combined_dropout = Dropout(0.5)(token_char_concat)\n",
        "combined_dense = Dense(200, activation='relu')(combined_dropout)\n",
        "final_dropout = Dropout(0.5)(combined_dense)\n",
        "output_layer = Dense(len(class_names), activation = 'softmax')(final_dropout)\n",
        "\n",
        "#5. Construct model with char and token inputs\n",
        "model_4 = Model(inputs=[token_model.input,char_model.input],\n",
        "                outputs=output_layer,\n",
        "                name='model_4_token_and_char_embeddings')"
      ],
      "metadata": {
        "id": "HaXlmAp_tRx5"
      },
      "execution_count": null,
      "outputs": []
    },
    {
      "cell_type": "code",
      "source": [
        "model_4.summary()"
      ],
      "metadata": {
        "colab": {
          "base_uri": "https://localhost:8080/"
        },
        "id": "2DoJwFBXMpdG",
        "outputId": "59d0a4e4-1ea7-46a6-d895-79d402dbb99e"
      },
      "execution_count": null,
      "outputs": [
        {
          "output_type": "stream",
          "name": "stdout",
          "text": [
            "Model: \"model_4_token_and_char_embeddings\"\n",
            "__________________________________________________________________________________________________\n",
            " Layer (type)                   Output Shape         Param #     Connected to                     \n",
            "==================================================================================================\n",
            " char_input (InputLayer)        [(None, 1)]          0           []                               \n",
            "                                                                                                  \n",
            " token_input (InputLayer)       [(None,)]            0           []                               \n",
            "                                                                                                  \n",
            " char_vetorizer (TextVectorizat  (None, 239)         0           ['char_input[0][0]']             \n",
            " ion)                                                                                             \n",
            "                                                                                                  \n",
            " USE_layer (KerasLayer)         (None, 512)          256797824   ['token_input[0][0]']            \n",
            "                                                                                                  \n",
            " char_embedding_layer (Embeddin  (None, 239, 25)     1700        ['char_vetorizer[1][0]']         \n",
            " g)                                                                                               \n",
            "                                                                                                  \n",
            " dense_5 (Dense)                (None, 128)          65664       ['USE_layer[1][0]']              \n",
            "                                                                                                  \n",
            " bidirectional (Bidirectional)  (None, 50)           10200       ['char_embedding_layer[1][0]']   \n",
            "                                                                                                  \n",
            " token_char_hybrid (Concatenate  (None, 178)         0           ['dense_5[0][0]',                \n",
            " )                                                                'bidirectional[0][0]']          \n",
            "                                                                                                  \n",
            " dropout (Dropout)              (None, 178)          0           ['token_char_hybrid[0][0]']      \n",
            "                                                                                                  \n",
            " dense_6 (Dense)                (None, 200)          35800       ['dropout[0][0]']                \n",
            "                                                                                                  \n",
            " dropout_1 (Dropout)            (None, 200)          0           ['dense_6[0][0]']                \n",
            "                                                                                                  \n",
            " dense_7 (Dense)                (None, 5)            1005        ['dropout_1[0][0]']              \n",
            "                                                                                                  \n",
            "==================================================================================================\n",
            "Total params: 256,912,193\n",
            "Trainable params: 114,369\n",
            "Non-trainable params: 256,797,824\n",
            "__________________________________________________________________________________________________\n"
          ]
        }
      ]
    },
    {
      "cell_type": "code",
      "source": [
        "from tensorflow.keras.utils import plot_model"
      ],
      "metadata": {
        "id": "aa8tPgh6MrzO"
      },
      "execution_count": null,
      "outputs": []
    },
    {
      "cell_type": "code",
      "source": [
        "plot_model(model_4,show_shapes=True)"
      ],
      "metadata": {
        "colab": {
          "base_uri": "https://localhost:8080/",
          "height": 674
        },
        "id": "bDGTLrOhMxHX",
        "outputId": "5c81b61c-16f6-4c49-8db6-9934eabe23f4"
      },
      "execution_count": null,
      "outputs": [
        {
          "output_type": "execute_result",
          "data": {
            "image/png": "[encoded data removed]",
            "text/plain": [
              "<IPython.core.display.Image object>"
            ]
          },
          "metadata": {},
          "execution_count": 91
        }
      ]
    },
    {
      "cell_type": "code",
      "source": [
        "model_4.compile('adam',\n",
        "                'categorical_crossentropy',\n",
        "                ['accuracy'])"
      ],
      "metadata": {
        "id": "twZbolg0ZYlq"
      },
      "execution_count": null,
      "outputs": []
    },
    {
      "cell_type": "code",
      "source": [
        ""
      ],
      "metadata": {
        "id": "TUgoLNLruiHI"
      },
      "execution_count": null,
      "outputs": []
    },
    {
      "cell_type": "markdown",
      "source": [
        "##Create our combined Dataset\n",
        "We'll create our combined input dataset usin `tf.data.Dataset` for our hybrid model for faster loading"
      ],
      "metadata": {
        "id": "uWzSLCdhZj-S"
      }
    },
    {
      "cell_type": "markdown",
      "source": [
        "Combined char-level and word-level sequence dataset in order as required by model\n"
      ],
      "metadata": {
        "id": "QOfveYPjajtH"
      }
    },
    {
      "cell_type": "code",
      "source": [
        "# Train char token data batch\n",
        "X_train_char_token = tf.data.Dataset.from_tensor_slices((X_train,X_train_char))\n",
        "y_train_char_token = tf.data.Dataset.from_tensor_slices(y_train_one_hot)\n",
        "train_char_token_dataset = tf.data.Dataset.zip((X_train_char_token,y_train_char_token)).batch(32).prefetch(tf.data.AUTOTUNE)\n",
        "\n",
        "# Valid char token data batch\n",
        "X_valid_char_token = tf.data.Dataset.from_tensor_slices((X_valid,X_valid_char))\n",
        "y_valid_char_token = tf.data.Dataset.from_tensor_slices(y_valid_one_hot)\n",
        "valid_char_token_dataset = tf.data.Dataset.zip((X_valid_char_token,y_valid_char_token)).batch(32).prefetch(tf.data.AUTOTUNE)\n"
      ],
      "metadata": {
        "id": "JZ_e7PIvcQ_H"
      },
      "execution_count": null,
      "outputs": []
    },
    {
      "cell_type": "code",
      "source": [
        "model_4_history = model_4.fit(train_char_token_dataset,\n",
        "                              epochs=3,\n",
        "                              steps_per_epoch=int(0.1*len(train_char_token_dataset)),\n",
        "                              validation_data=valid_char_token_dataset,\n",
        "                              validation_steps=int(0.1*len(valid_char_token_dataset)),\n",
        "                              callbacks=[tensorboard_cb('logs','model_4_char_token')]\n",
        "                              )"
      ],
      "metadata": {
        "colab": {
          "base_uri": "https://localhost:8080/"
        },
        "id": "Mi3PZECPczf6",
        "outputId": "52e1d714-407f-4653-9a7d-5bb6b3ff25ba"
      },
      "execution_count": null,
      "outputs": [
        {
          "output_type": "stream",
          "name": "stdout",
          "text": [
            "Saving TensorBoard log files to: /content/logs/model_4_char_token/20220128-054633\n",
            "Epoch 1/3\n",
            "562/562 [==============================] - 27s 38ms/step - loss: 0.9651 - accuracy: 0.6180 - val_loss: 0.7610 - val_accuracy: 0.7041\n",
            "Epoch 2/3\n",
            "562/562 [==============================] - 20s 36ms/step - loss: 0.7862 - accuracy: 0.6928 - val_loss: 0.7104 - val_accuracy: 0.7294\n",
            "Epoch 3/3\n",
            "562/562 [==============================] - 20s 36ms/step - loss: 0.7576 - accuracy: 0.7122 - val_loss: 0.6745 - val_accuracy: 0.7497\n"
          ]
        }
      ]
    },
    {
      "cell_type": "code",
      "source": [
        "y_pred_4 = model_4.predict(valid_char_token_dataset)\n",
        "y_pred_4"
      ],
      "metadata": {
        "colab": {
          "base_uri": "https://localhost:8080/"
        },
        "id": "knVxNZjvumCj",
        "outputId": "03b05e95-7c8d-4515-826e-308f99277618"
      },
      "execution_count": null,
      "outputs": [
        {
          "output_type": "execute_result",
          "data": {
            "text/plain": [
              "array([[4.0248474e-01, 3.7330094e-01, 2.3654955e-03, 2.1618257e-01,\n",
              "        5.6662662e-03],\n",
              "       [3.7947714e-01, 4.7977409e-01, 2.0972362e-03, 1.3664848e-01,\n",
              "        2.0031224e-03],\n",
              "       [2.5736511e-01, 8.8058792e-02, 2.4107022e-02, 6.1008567e-01,\n",
              "        2.0383380e-02],\n",
              "       ...,\n",
              "       [4.9358804e-04, 5.4746410e-03, 6.6856205e-02, 2.8778575e-04,\n",
              "        9.2688781e-01],\n",
              "       [2.3776088e-03, 2.1445023e-02, 2.1787904e-01, 1.4394230e-03,\n",
              "        7.5685894e-01],\n",
              "       [3.1189921e-01, 5.0707835e-01, 1.2556362e-01, 2.7230097e-02,\n",
              "        2.8228670e-02]], dtype=float32)"
            ]
          },
          "metadata": {},
          "execution_count": 95
        }
      ]
    },
    {
      "cell_type": "code",
      "source": [
        "y_pred_4 = tf.argmax(y_pred_4,axis=1)\n",
        "y_pred_4"
      ],
      "metadata": {
        "colab": {
          "base_uri": "https://localhost:8080/"
        },
        "id": "of4mBWM4vqvJ",
        "outputId": "c7f809fa-58a3-43b3-c817-5cda14bb2981"
      },
      "execution_count": null,
      "outputs": [
        {
          "output_type": "execute_result",
          "data": {
            "text/plain": [
              "<tf.Tensor: shape=(30212,), dtype=int64, numpy=array([0, 1, 3, ..., 4, 4, 1])>"
            ]
          },
          "metadata": {},
          "execution_count": 96
        }
      ]
    },
    {
      "cell_type": "code",
      "source": [
        "model_4_results = evaluate(y_valid_encoded,y_pred_4)\n",
        "model_4_results"
      ],
      "metadata": {
        "colab": {
          "base_uri": "https://localhost:8080/"
        },
        "id": "X4UMlYlPwGIb",
        "outputId": "1629c797-5d85-42e6-a6b2-8be8240a8e15"
      },
      "execution_count": null,
      "outputs": [
        {
          "output_type": "execute_result",
          "data": {
            "text/plain": [
              "{'accuracy': 0.7450019859658414,\n",
              " 'f1': 0.7430321791344888,\n",
              " 'precison': 0.745853416596566,\n",
              " 'recall': 0.7450019859658414}"
            ]
          },
          "metadata": {},
          "execution_count": 97
        }
      ]
    },
    {
      "cell_type": "markdown",
      "source": [
        "# Model_5 : Transfer Learning + Feature Engineering\n",
        "For our final model, we'll use a combination of **token_embeddings**, **char_embeddings** and **positional_embeddings**.\n",
        "Our Dataset contains only text sequence of the abstract and there labels. We'll add additianal features -> **line_order** and **total_lines** (in a abstract) [Feature Engineering].\n",
        "Then' we'll train our model based on the three input features ->\n",
        "  1. Input Words in Text Sequence\n",
        "  2. Input Charaters in Text Sequence\n",
        "  3. Line Order of a Text in the abstract\n",
        "  4. Total Lines in the abstract\n",
        "\n",
        "We'll create separate models for each feature and later we'll combine (Concatenate) the models to create the final output layers"
      ],
      "metadata": {
        "id": "YE5iiJaiwPwT"
      }
    },
    {
      "cell_type": "code",
      "source": [
        "train_df.head()"
      ],
      "metadata": {
        "id": "IcTQ0U1owVPf",
        "colab": {
          "base_uri": "https://localhost:8080/",
          "height": 206
        },
        "outputId": "bf3c1aa7-f123-4d53-8df0-2533570a4be8"
      },
      "execution_count": null,
      "outputs": [
        {
          "output_type": "execute_result",
          "data": {
            "text/html": [
              "\n",
              "  <div id=\"df-37b70149-2508-4cda-b10b-f9c1644a1a74\">\n",
              "    <div class=\"colab-df-container\">\n",
              "      <div>\n",
              "<style scoped>\n",
              "    .dataframe tbody tr th:only-of-type {\n",
              "        vertical-align: middle;\n",
              "    }\n",
              "\n",
              "    .dataframe tbody tr th {\n",
              "        vertical-align: top;\n",
              "    }\n",
              "\n",
              "    .dataframe thead th {\n",
              "        text-align: right;\n",
              "    }\n",
              "</style>\n",
              "<table border=\"1\" class=\"dataframe\">\n",
              "  <thead>\n",
              "    <tr style=\"text-align: right;\">\n",
              "      <th></th>\n",
              "      <th>order</th>\n",
              "      <th>text</th>\n",
              "      <th>target</th>\n",
              "      <th>total_lines</th>\n",
              "    </tr>\n",
              "  </thead>\n",
              "  <tbody>\n",
              "    <tr>\n",
              "      <th>0</th>\n",
              "      <td>0</td>\n",
              "      <td>To investigate the efficacy of @ weeks of dail...</td>\n",
              "      <td>OBJECTIVE</td>\n",
              "      <td>12</td>\n",
              "    </tr>\n",
              "    <tr>\n",
              "      <th>1</th>\n",
              "      <td>1</td>\n",
              "      <td>A total of @ patients with primary knee OA wer...</td>\n",
              "      <td>METHODS</td>\n",
              "      <td>12</td>\n",
              "    </tr>\n",
              "    <tr>\n",
              "      <th>2</th>\n",
              "      <td>2</td>\n",
              "      <td>Outcome measures included pain reduction and i...</td>\n",
              "      <td>METHODS</td>\n",
              "      <td>12</td>\n",
              "    </tr>\n",
              "    <tr>\n",
              "      <th>3</th>\n",
              "      <td>3</td>\n",
              "      <td>Pain was assessed using the visual analog pain...</td>\n",
              "      <td>METHODS</td>\n",
              "      <td>12</td>\n",
              "    </tr>\n",
              "    <tr>\n",
              "      <th>4</th>\n",
              "      <td>4</td>\n",
              "      <td>Secondary outcome measures included the Wester...</td>\n",
              "      <td>METHODS</td>\n",
              "      <td>12</td>\n",
              "    </tr>\n",
              "  </tbody>\n",
              "</table>\n",
              "</div>\n",
              "      <button class=\"colab-df-convert\" onclick=\"convertToInteractive('df-37b70149-2508-4cda-b10b-f9c1644a1a74')\"\n",
              "              title=\"Convert this dataframe to an interactive table.\"\n",
              "              style=\"display:none;\">\n",
              "        \n",
              "  <svg xmlns=\"http://www.w3.org/2000/svg\" height=\"24px\"viewBox=\"0 0 24 24\"\n",
              "       width=\"24px\">\n",
              "    <path d=\"M0 0h24v24H0V0z\" fill=\"none\"/>\n",
              "    <path d=\"M18.56 5.44l.94 2.06.94-2.06 2.06-.94-2.06-.94-.94-2.06-.94 2.06-2.06.94zm-11 1L8.5 8.5l.94-2.06 2.06-.94-2.06-.94L8.5 2.5l-.94 2.06-2.06.94zm10 10l.94 2.06.94-2.06 2.06-.94-2.06-.94-.94-2.06-.94 2.06-2.06.94z\"/><path d=\"M17.41 7.96l-1.37-1.37c-.4-.4-.92-.59-1.43-.59-.52 0-1.04.2-1.43.59L10.3 9.45l-7.72 7.72c-.78.78-.78 2.05 0 2.83L4 21.41c.39.39.9.59 1.41.59.51 0 1.02-.2 1.41-.59l7.78-7.78 2.81-2.81c.8-.78.8-2.07 0-2.86zM5.41 20L4 18.59l7.72-7.72 1.47 1.35L5.41 20z\"/>\n",
              "  </svg>\n",
              "      </button>\n",
              "      \n",
              "  <style>\n",
              "    .colab-df-container {\n",
              "      display:flex;\n",
              "      flex-wrap:wrap;\n",
              "      gap: 12px;\n",
              "    }\n",
              "\n",
              "    .colab-df-convert {\n",
              "      background-color: #E8F0FE;\n",
              "      border: none;\n",
              "      border-radius: 50%;\n",
              "      cursor: pointer;\n",
              "      display: none;\n",
              "      fill: #1967D2;\n",
              "      height: 32px;\n",
              "      padding: 0 0 0 0;\n",
              "      width: 32px;\n",
              "    }\n",
              "\n",
              "    .colab-df-convert:hover {\n",
              "      background-color: #E2EBFA;\n",
              "      box-shadow: 0px 1px 2px rgba(60, 64, 67, 0.3), 0px 1px 3px 1px rgba(60, 64, 67, 0.15);\n",
              "      fill: #174EA6;\n",
              "    }\n",
              "\n",
              "    [theme=dark] .colab-df-convert {\n",
              "      background-color: #3B4455;\n",
              "      fill: #D2E3FC;\n",
              "    }\n",
              "\n",
              "    [theme=dark] .colab-df-convert:hover {\n",
              "      background-color: #434B5C;\n",
              "      box-shadow: 0px 1px 3px 1px rgba(0, 0, 0, 0.15);\n",
              "      filter: drop-shadow(0px 1px 2px rgba(0, 0, 0, 0.3));\n",
              "      fill: #FFFFFF;\n",
              "    }\n",
              "  </style>\n",
              "\n",
              "      <script>\n",
              "        const buttonEl =\n",
              "          document.querySelector('#df-37b70149-2508-4cda-b10b-f9c1644a1a74 button.colab-df-convert');\n",
              "        buttonEl.style.display =\n",
              "          google.colab.kernel.accessAllowed ? 'block' : 'none';\n",
              "\n",
              "        async function convertToInteractive(key) {\n",
              "          const element = document.querySelector('#df-37b70149-2508-4cda-b10b-f9c1644a1a74');\n",
              "          const dataTable =\n",
              "            await google.colab.kernel.invokeFunction('convertToInteractive',\n",
              "                                                     [key], {});\n",
              "          if (!dataTable) return;\n",
              "\n",
              "          const docLinkHtml = 'Like what you see? Visit the ' +\n",
              "            '<a target=\"_blank\" href=https://colab.research.google.com/notebooks/data_table.ipynb>data table notebook</a>'\n",
              "            + ' to learn more about interactive tables.';\n",
              "          element.innerHTML = '';\n",
              "          dataTable['output_type'] = 'display_data';\n",
              "          await google.colab.output.renderOutput(dataTable, element);\n",
              "          const docLink = document.createElement('div');\n",
              "          docLink.innerHTML = docLinkHtml;\n",
              "          element.appendChild(docLink);\n",
              "        }\n",
              "      </script>\n",
              "    </div>\n",
              "  </div>\n",
              "  "
            ],
            "text/plain": [
              "   order  ... total_lines\n",
              "0      0  ...          12\n",
              "1      1  ...          12\n",
              "2      2  ...          12\n",
              "3      3  ...          12\n",
              "4      4  ...          12\n",
              "\n",
              "[5 rows x 4 columns]"
            ]
          },
          "metadata": {},
          "execution_count": 98
        }
      ]
    },
    {
      "cell_type": "markdown",
      "source": [
        "## one_hot encode the `line_order` and `total_lines`"
      ],
      "metadata": {
        "id": "AVe9wGVfq_Or"
      }
    },
    {
      "cell_type": "code",
      "source": [
        "#Get the line_order and total_lines for the datasets\n",
        "line_order_train = train_df['order'].to_numpy()\n",
        "total_lines_train = train_df['total_lines'].to_numpy()\n",
        "\n",
        "line_order_valid = valid_df['order'].to_numpy()\n",
        "total_lines_valid = valid_df['total_lines'].to_numpy()\n",
        "\n",
        "line_order_test = test_df['order'].to_numpy()\n",
        "total_lines_test = test_df['total_lines'].to_numpy()\n"
      ],
      "metadata": {
        "id": "iNFHg2AkrhIz"
      },
      "execution_count": null,
      "outputs": []
    },
    {
      "cell_type": "markdown",
      "source": [
        "### one_hot_encode `line_order`"
      ],
      "metadata": {
        "id": "5RRS12lRuoNi"
      }
    },
    {
      "cell_type": "code",
      "source": [
        "#Check the `line_order` distribution\n",
        "ax = plt.figure(figsize=(8,4)).add_axes([0,0,1,1])\n",
        "sns.countplot(x=line_order_train,ax=ax);\n",
        "# pd.Series(line_order_train).value_counts()"
      ],
      "metadata": {
        "colab": {
          "base_uri": "https://localhost:8080/",
          "height": 336
        },
        "id": "BY6vvxgIrq_D",
        "outputId": "cbbc270c-3571-437f-cddc-7090daf5f9ae"
      },
      "execution_count": null,
      "outputs": [
        {
          "output_type": "display_data",
          "data": {
            "image/png": "[encoded data removed]",
            "text/plain": [
              "<Figure size 576x288 with 1 Axes>"
            ]
          },
          "metadata": {
            "needs_background": "light"
          }
        }
      ]
    },
    {
      "cell_type": "code",
      "source": [
        "# line_order for 95 percent of our train data\n",
        "max_line_order_depth = int(np.percentile(line_order_train,99))\n",
        "max_line_order_depth"
      ],
      "metadata": {
        "colab": {
          "base_uri": "https://localhost:8080/"
        },
        "id": "1voTzYUitJ07",
        "outputId": "f64d846a-26b2-49dc-cec9-92b828e2ac9f"
      },
      "execution_count": null,
      "outputs": [
        {
          "output_type": "execute_result",
          "data": {
            "text/plain": [
              "17"
            ]
          },
          "metadata": {},
          "execution_count": 101
        }
      ]
    },
    {
      "cell_type": "code",
      "source": [
        "#one_hot encode line_order\n",
        "line_order_one_hot_train = tf.one_hot(line_order_train,depth=max_line_order_depth)\n",
        "\n",
        "line_order_one_hot_valid = tf.one_hot(line_order_valid,depth=max_line_order_depth)\n",
        "line_order_one_hot_train"
      ],
      "metadata": {
        "colab": {
          "base_uri": "https://localhost:8080/"
        },
        "id": "4L8P8GcJt5ur",
        "outputId": "aee2f3eb-f3a4-4d05-d9d8-981955207f17"
      },
      "execution_count": null,
      "outputs": [
        {
          "output_type": "execute_result",
          "data": {
            "text/plain": [
              "<tf.Tensor: shape=(180040, 17), dtype=float32, numpy=\n",
              "array([[1., 0., 0., ..., 0., 0., 0.],\n",
              "       [0., 1., 0., ..., 0., 0., 0.],\n",
              "       [0., 0., 1., ..., 0., 0., 0.],\n",
              "       ...,\n",
              "       [0., 0., 0., ..., 0., 0., 0.],\n",
              "       [0., 0., 0., ..., 0., 0., 0.],\n",
              "       [0., 0., 0., ..., 0., 0., 0.]], dtype=float32)>"
            ]
          },
          "metadata": {},
          "execution_count": 102
        }
      ]
    },
    {
      "cell_type": "markdown",
      "source": [
        "### one_hot encode `total_lines`"
      ],
      "metadata": {
        "id": "0AbAggH5vIVZ"
      }
    },
    {
      "cell_type": "code",
      "source": [
        "#Check the `total_lines` distribution\n",
        "ax = plt.figure(figsize=(8,4)).add_axes([0,0,1,1])\n",
        "sns.countplot(x=total_lines_train,ax=ax);\n",
        "# pd.Series(total_lines_train).value_counts()"
      ],
      "metadata": {
        "colab": {
          "base_uri": "https://localhost:8080/",
          "height": 336
        },
        "id": "F-YcvOqRvSwX",
        "outputId": "577c8256-4a82-4153-b379-c17a683d1385"
      },
      "execution_count": null,
      "outputs": [
        {
          "output_type": "display_data",
          "data": {
            "image/png": "[encoded data removed]",
            "text/plain": [
              "<Figure size 576x288 with 1 Axes>"
            ]
          },
          "metadata": {
            "needs_background": "light"
          }
        }
      ]
    },
    {
      "cell_type": "code",
      "source": [
        "# total_lines for 95 percent of our train data\n",
        "max_total_lines_depth = int(np.percentile(total_lines_train,99))\n",
        "max_total_lines_depth"
      ],
      "metadata": {
        "colab": {
          "base_uri": "https://localhost:8080/"
        },
        "id": "q1tKxxyyvYMZ",
        "outputId": "370d6074-39ef-466b-d464-6ec7062da568"
      },
      "execution_count": null,
      "outputs": [
        {
          "output_type": "execute_result",
          "data": {
            "text/plain": [
              "22"
            ]
          },
          "metadata": {},
          "execution_count": 104
        }
      ]
    },
    {
      "cell_type": "code",
      "source": [
        "#one_got encode total_lines\n",
        "total_lines_one_hot_train = tf.one_hot(total_lines_train,depth=max_total_lines_depth)\n",
        "\n",
        "total_lines_one_hot_valid = tf.one_hot(total_lines_valid,depth=max_total_lines_depth)\n",
        "total_lines_one_hot_train"
      ],
      "metadata": {
        "colab": {
          "base_uri": "https://localhost:8080/"
        },
        "id": "spY7_HLsvloe",
        "outputId": "066d5e0e-add3-49fd-996d-56fda52aab0c"
      },
      "execution_count": null,
      "outputs": [
        {
          "output_type": "execute_result",
          "data": {
            "text/plain": [
              "<tf.Tensor: shape=(180040, 22), dtype=float32, numpy=\n",
              "array([[0., 0., 0., ..., 0., 0., 0.],\n",
              "       [0., 0., 0., ..., 0., 0., 0.],\n",
              "       [0., 0., 0., ..., 0., 0., 0.],\n",
              "       ...,\n",
              "       [0., 0., 0., ..., 0., 0., 0.],\n",
              "       [0., 0., 0., ..., 0., 0., 0.],\n",
              "       [0., 0., 0., ..., 0., 0., 0.]], dtype=float32)>"
            ]
          },
          "metadata": {},
          "execution_count": 105
        }
      ]
    },
    {
      "cell_type": "markdown",
      "source": [
        "## Buid the Model Architecture\n",
        "Steps:-\n",
        "  1. Create a `token_level` model (model_1)\n",
        "  2. Create a `char_level` model (model_2)\n",
        "  3. Create a `line_order` model (model_3)\n",
        "  4. Create a `total_lines` model (model_4)\n",
        "  5. Concatenate all the models\n",
        "    5.1 Concatenate outputs of `model_1` and `model_2` and add a `dropout` output layer for regularization (`token_char_output`)\n",
        "    5.2 Concatenate outputs of `model_3` and `model_4` with the `token_char_layer` (`tribrid_model`)\n",
        "  6. Add few output layers\n",
        "  7. Add the final dense output layer of shape = num_of_classes that outputs the class_probabilities\n",
        "  8. Create the model with the inputs for each 4 models respectively and the output of the tribrid model"
      ],
      "metadata": {
        "id": "p5IAVMlav-Na"
      }
    },
    {
      "cell_type": "code",
      "source": [
        "#token_level model\n",
        "token_inputs = Input(shape=(),dtype='string',name='token_inputs')\n",
        "x1 = USE_layer(token_inputs)\n",
        "x1 = Dense(128,activation='relu')(x1)\n",
        "\n",
        "#char_level model\n",
        "char_inputs = Input(shape=(1,),dtype='string',name='char_inputs')\n",
        "x2 = char_vectorizer(char_inputs)\n",
        "x2 = char_embedding_layer(x2)\n",
        "x2 = Bidirectional(LSTM(32))(x2)\n",
        "x2 = Dense(128,activation='relu')(x2)\n",
        "\n",
        "#Concatenate token_level and char_level\n",
        "x1_and_x2 = Concatenate(name='char_token_concat')([x1,x2])\n",
        "x1_and_x2 = Dense(256,activation='relu')(x1_and_x2)\n",
        "char_token_layer = Dropout(0.5)(x1_and_x2)\n",
        "\n",
        "#line_order model\n",
        "line_order_inputs = Input(shape=line_order_one_hot_train[0].shape,name='line_order_inputs',dtype=tf.float32)\n",
        "x3 = Dense(32,activation='relu')(line_order_inputs)\n",
        "\n",
        "#total_lines model\n",
        "total_lines_inputs = Input(shape=total_lines_one_hot_train[0].shape,name='total_lines_inputs',dtype=tf.float32)\n",
        "x4 = Dense(32,activation='relu')(total_lines_inputs)\n",
        "\n",
        "#Concatenate all the three layes\n",
        "char_token_pos_layer = Concatenate(name='char_token_pos_tribrid')([char_token_layer,x3,x4])\n",
        "z = Dense(128,activation='relu')(char_token_pos_layer)\n",
        "z = Dropout(0.5)(z)\n",
        "z = Dense(32,activation='relu')(z)\n",
        "outputs = Dense(len(class_names),activation='softmax')(z)\n",
        "\n",
        "#Create the Model\n",
        "model_5 = Model(inputs=(token_inputs,char_inputs,line_order_inputs,total_lines_inputs),\n",
        "                outputs=outputs)"
      ],
      "metadata": {
        "id": "8Sdo0Q3XyMvh"
      },
      "execution_count": null,
      "outputs": []
    },
    {
      "cell_type": "code",
      "source": [
        "model_5.summary()"
      ],
      "metadata": {
        "colab": {
          "base_uri": "https://localhost:8080/"
        },
        "id": "hQhDyGfa08qg",
        "outputId": "4d3289ea-19a5-424b-d9d4-d2cb28077599"
      },
      "execution_count": null,
      "outputs": [
        {
          "output_type": "stream",
          "name": "stdout",
          "text": [
            "Model: \"model_4\"\n",
            "__________________________________________________________________________________________________\n",
            " Layer (type)                   Output Shape         Param #     Connected to                     \n",
            "==================================================================================================\n",
            " char_inputs (InputLayer)       [(None, 1)]          0           []                               \n",
            "                                                                                                  \n",
            " char_vetorizer (TextVectorizat  (None, 239)         0           ['char_inputs[0][0]']            \n",
            " ion)                                                                                             \n",
            "                                                                                                  \n",
            " token_inputs (InputLayer)      [(None,)]            0           []                               \n",
            "                                                                                                  \n",
            " char_embedding_layer (Embeddin  (None, 239, 25)     1700        ['char_vetorizer[2][0]']         \n",
            " g)                                                                                               \n",
            "                                                                                                  \n",
            " USE_layer (KerasLayer)         (None, 512)          256797824   ['token_inputs[0][0]']           \n",
            "                                                                                                  \n",
            " bidirectional_1 (Bidirectional  (None, 64)          14848       ['char_embedding_layer[2][0]']   \n",
            " )                                                                                                \n",
            "                                                                                                  \n",
            " dense_8 (Dense)                (None, 128)          65664       ['USE_layer[2][0]']              \n",
            "                                                                                                  \n",
            " dense_9 (Dense)                (None, 128)          8320        ['bidirectional_1[0][0]']        \n",
            "                                                                                                  \n",
            " char_token_concat (Concatenate  (None, 256)         0           ['dense_8[0][0]',                \n",
            " )                                                                'dense_9[0][0]']                \n",
            "                                                                                                  \n",
            " dense_10 (Dense)               (None, 256)          65792       ['char_token_concat[0][0]']      \n",
            "                                                                                                  \n",
            " line_order_inputs (InputLayer)  [(None, 17)]        0           []                               \n",
            "                                                                                                  \n",
            " total_lines_inputs (InputLayer  [(None, 22)]        0           []                               \n",
            " )                                                                                                \n",
            "                                                                                                  \n",
            " dropout_2 (Dropout)            (None, 256)          0           ['dense_10[0][0]']               \n",
            "                                                                                                  \n",
            " dense_11 (Dense)               (None, 32)           576         ['line_order_inputs[0][0]']      \n",
            "                                                                                                  \n",
            " dense_12 (Dense)               (None, 32)           736         ['total_lines_inputs[0][0]']     \n",
            "                                                                                                  \n",
            " char_token_pos_tribrid (Concat  (None, 320)         0           ['dropout_2[0][0]',              \n",
            " enate)                                                           'dense_11[0][0]',               \n",
            "                                                                  'dense_12[0][0]']               \n",
            "                                                                                                  \n",
            " dense_13 (Dense)               (None, 128)          41088       ['char_token_pos_tribrid[0][0]'] \n",
            "                                                                                                  \n",
            " dropout_3 (Dropout)            (None, 128)          0           ['dense_13[0][0]']               \n",
            "                                                                                                  \n",
            " dense_14 (Dense)               (None, 32)           4128        ['dropout_3[0][0]']              \n",
            "                                                                                                  \n",
            " dense_15 (Dense)               (None, 5)            165         ['dense_14[0][0]']               \n",
            "                                                                                                  \n",
            "==================================================================================================\n",
            "Total params: 257,000,841\n",
            "Trainable params: 203,017\n",
            "Non-trainable params: 256,797,824\n",
            "__________________________________________________________________________________________________\n"
          ]
        }
      ]
    },
    {
      "cell_type": "code",
      "source": [
        "plot_model(model_5)"
      ],
      "metadata": {
        "colab": {
          "base_uri": "https://localhost:8080/",
          "height": 830
        },
        "id": "frVXP0ro09H4",
        "outputId": "9d932997-5d4a-4513-95f3-cd92e9cdc0fc"
      },
      "execution_count": null,
      "outputs": [
        {
          "output_type": "execute_result",
          "data": {
            "image/png": "[encoded data removed]",
            "text/plain": [
              "<IPython.core.display.Image object>"
            ]
          },
          "metadata": {},
          "execution_count": 108
        }
      ]
    },
    {
      "cell_type": "markdown",
      "source": [
        "## Create the Dataset as required by the model"
      ],
      "metadata": {
        "id": "pNmriZpU5nqP"
      }
    },
    {
      "cell_type": "code",
      "source": [
        "from tensorflow.data import Dataset,AUTOTUNE"
      ],
      "metadata": {
        "id": "P98Hssvl6lEc"
      },
      "execution_count": null,
      "outputs": []
    },
    {
      "cell_type": "code",
      "source": [
        "# For our train data\n",
        "X_train = Dataset.from_tensor_slices((X_train,X_train_char,line_order_one_hot_train,total_lines_one_hot_train))\n",
        "y_train = Dataset.from_tensor_slices(y_train_one_hot)\n",
        "train_dataset = Dataset.zip((X_train,y_train)).batch(32).prefetch(AUTOTUNE)\n",
        "\n",
        "# For our valid data\n",
        "X_valid = Dataset.from_tensor_slices((X_valid,X_valid_char,line_order_one_hot_valid,total_lines_one_hot_valid))\n",
        "y_valid = Dataset.from_tensor_slices(y_valid_one_hot)\n",
        "valid_dataset = Dataset.zip((X_valid,y_valid)).batch(32).prefetch(AUTOTUNE)"
      ],
      "metadata": {
        "id": "L7Xwa6jH56yG"
      },
      "execution_count": null,
      "outputs": []
    },
    {
      "cell_type": "code",
      "source": [
        "model_5.compile(optimizer=tf.keras.optimizers.Adam(),\n",
        "                loss=tf.keras.losses.CategoricalCrossentropy(label_smoothing=0.2),\n",
        "                metrics=['accuracy'])"
      ],
      "metadata": {
        "id": "empV3xpJ8qfW"
      },
      "execution_count": null,
      "outputs": []
    },
    {
      "cell_type": "code",
      "source": [
        "model_5_history = model_5.fit(train_dataset,\n",
        "                              epochs=5,\n",
        "                              steps_per_epoch=int(0.1*len(train_dataset)),\n",
        "                              validation_data=valid_dataset,\n",
        "                              validation_steps=int(0.1*len(valid_dataset)),\n",
        "                              callbacks=[tensorboard_cb('logs','model_5_char_token_pos')]\n",
        "                              )"
      ],
      "metadata": {
        "colab": {
          "base_uri": "https://localhost:8080/"
        },
        "id": "0S87h9dR6_vN",
        "outputId": "5e3f2f86-d52b-4aca-9667-542edba27d9e"
      },
      "execution_count": null,
      "outputs": [
        {
          "output_type": "stream",
          "name": "stdout",
          "text": [
            "Saving TensorBoard log files to: /content/logs/model_5_char_token_pos/20220128-054821\n",
            "Epoch 1/5\n",
            "562/562 [==============================] - 27s 40ms/step - loss: 1.1062 - accuracy: 0.7094 - val_loss: 0.9492 - val_accuracy: 0.8158\n",
            "Epoch 2/5\n",
            "562/562 [==============================] - 20s 36ms/step - loss: 0.9572 - accuracy: 0.8160 - val_loss: 0.9150 - val_accuracy: 0.8351\n",
            "Epoch 3/5\n",
            "562/562 [==============================] - 21s 38ms/step - loss: 0.9300 - accuracy: 0.8325 - val_loss: 0.8905 - val_accuracy: 0.8534\n",
            "Epoch 4/5\n",
            "562/562 [==============================] - 20s 36ms/step - loss: 0.9187 - accuracy: 0.8426 - val_loss: 0.8869 - val_accuracy: 0.8514\n",
            "Epoch 5/5\n",
            "562/562 [==============================] - 20s 36ms/step - loss: 0.9143 - accuracy: 0.8448 - val_loss: 0.8823 - val_accuracy: 0.8564\n"
          ]
        }
      ]
    },
    {
      "cell_type": "code",
      "source": [
        "y_pred_5 = model_5.predict(valid_dataset)\n",
        "y_pred_5 = tf.argmax(y_pred_5,axis=1)\n",
        "y_pred_5"
      ],
      "metadata": {
        "colab": {
          "base_uri": "https://localhost:8080/"
        },
        "id": "oEjheaYS8kFl",
        "outputId": "499b1da2-c37c-429f-8eb2-0e4c79672ada"
      },
      "execution_count": null,
      "outputs": [
        {
          "output_type": "execute_result",
          "data": {
            "text/plain": [
              "<tf.Tensor: shape=(30212,), dtype=int64, numpy=array([0, 0, 3, ..., 4, 4, 1])>"
            ]
          },
          "metadata": {},
          "execution_count": 113
        }
      ]
    },
    {
      "cell_type": "code",
      "source": [
        "model_5_results = evaluate(y_valid_encoded,y_pred_5)\n",
        "model_5_results"
      ],
      "metadata": {
        "colab": {
          "base_uri": "https://localhost:8080/"
        },
        "id": "sNL4yqeg_hNF",
        "outputId": "bfb51adf-cf4b-42f4-915f-148f1e557a30"
      },
      "execution_count": null,
      "outputs": [
        {
          "output_type": "execute_result",
          "data": {
            "text/plain": [
              "{'accuracy': 0.8563484708063022,\n",
              " 'f1': 0.8537533777517786,\n",
              " 'precison': 0.8606899760406728,\n",
              " 'recall': 0.8563484708063022}"
            ]
          },
          "metadata": {},
          "execution_count": 114
        }
      ]
    },
    {
      "cell_type": "code",
      "source": [
        "all_results_df = pd.DataFrame({'model_1':model_1_results,\n",
        "                               'model_2':model_2_results,\n",
        "                               'model_3':model_3_results,\n",
        "                               'model_4':model_4_results,\n",
        "                               'model_5':model_5_results\n",
        "                               })\n",
        "all_results_df = all_results_df.T\n",
        "all_results_df"
      ],
      "metadata": {
        "colab": {
          "base_uri": "https://localhost:8080/",
          "height": 206
        },
        "id": "4ZlQUMmv_sUd",
        "outputId": "fb7d634d-b0e3-420c-83a7-c79346111956"
      },
      "execution_count": null,
      "outputs": [
        {
          "output_type": "execute_result",
          "data": {
            "text/html": [
              "\n",
              "  <div id=\"df-ffb243dd-8a91-4d09-8db5-e1e41d384c93\">\n",
              "    <div class=\"colab-df-container\">\n",
              "      <div>\n",
              "<style scoped>\n",
              "    .dataframe tbody tr th:only-of-type {\n",
              "        vertical-align: middle;\n",
              "    }\n",
              "\n",
              "    .dataframe tbody tr th {\n",
              "        vertical-align: top;\n",
              "    }\n",
              "\n",
              "    .dataframe thead th {\n",
              "        text-align: right;\n",
              "    }\n",
              "</style>\n",
              "<table border=\"1\" class=\"dataframe\">\n",
              "  <thead>\n",
              "    <tr style=\"text-align: right;\">\n",
              "      <th></th>\n",
              "      <th>accuracy</th>\n",
              "      <th>precison</th>\n",
              "      <th>recall</th>\n",
              "      <th>f1</th>\n",
              "    </tr>\n",
              "  </thead>\n",
              "  <tbody>\n",
              "    <tr>\n",
              "      <th>model_1</th>\n",
              "      <td>0.786542</td>\n",
              "      <td>0.782839</td>\n",
              "      <td>0.786542</td>\n",
              "      <td>0.783958</td>\n",
              "    </tr>\n",
              "    <tr>\n",
              "      <th>model_2</th>\n",
              "      <td>0.728552</td>\n",
              "      <td>0.729265</td>\n",
              "      <td>0.728552</td>\n",
              "      <td>0.727385</td>\n",
              "    </tr>\n",
              "    <tr>\n",
              "      <th>model_3</th>\n",
              "      <td>0.690520</td>\n",
              "      <td>0.689042</td>\n",
              "      <td>0.690520</td>\n",
              "      <td>0.680259</td>\n",
              "    </tr>\n",
              "    <tr>\n",
              "      <th>model_4</th>\n",
              "      <td>0.745002</td>\n",
              "      <td>0.745853</td>\n",
              "      <td>0.745002</td>\n",
              "      <td>0.743032</td>\n",
              "    </tr>\n",
              "    <tr>\n",
              "      <th>model_5</th>\n",
              "      <td>0.856348</td>\n",
              "      <td>0.860690</td>\n",
              "      <td>0.856348</td>\n",
              "      <td>0.853753</td>\n",
              "    </tr>\n",
              "  </tbody>\n",
              "</table>\n",
              "</div>\n",
              "      <button class=\"colab-df-convert\" onclick=\"convertToInteractive('df-ffb243dd-8a91-4d09-8db5-e1e41d384c93')\"\n",
              "              title=\"Convert this dataframe to an interactive table.\"\n",
              "              style=\"display:none;\">\n",
              "        \n",
              "  <svg xmlns=\"http://www.w3.org/2000/svg\" height=\"24px\"viewBox=\"0 0 24 24\"\n",
              "       width=\"24px\">\n",
              "    <path d=\"M0 0h24v24H0V0z\" fill=\"none\"/>\n",
              "    <path d=\"M18.56 5.44l.94 2.06.94-2.06 2.06-.94-2.06-.94-.94-2.06-.94 2.06-2.06.94zm-11 1L8.5 8.5l.94-2.06 2.06-.94-2.06-.94L8.5 2.5l-.94 2.06-2.06.94zm10 10l.94 2.06.94-2.06 2.06-.94-2.06-.94-.94-2.06-.94 2.06-2.06.94z\"/><path d=\"M17.41 7.96l-1.37-1.37c-.4-.4-.92-.59-1.43-.59-.52 0-1.04.2-1.43.59L10.3 9.45l-7.72 7.72c-.78.78-.78 2.05 0 2.83L4 21.41c.39.39.9.59 1.41.59.51 0 1.02-.2 1.41-.59l7.78-7.78 2.81-2.81c.8-.78.8-2.07 0-2.86zM5.41 20L4 18.59l7.72-7.72 1.47 1.35L5.41 20z\"/>\n",
              "  </svg>\n",
              "      </button>\n",
              "      \n",
              "  <style>\n",
              "    .colab-df-container {\n",
              "      display:flex;\n",
              "      flex-wrap:wrap;\n",
              "      gap: 12px;\n",
              "    }\n",
              "\n",
              "    .colab-df-convert {\n",
              "      background-color: #E8F0FE;\n",
              "      border: none;\n",
              "      border-radius: 50%;\n",
              "      cursor: pointer;\n",
              "      display: none;\n",
              "      fill: #1967D2;\n",
              "      height: 32px;\n",
              "      padding: 0 0 0 0;\n",
              "      width: 32px;\n",
              "    }\n",
              "\n",
              "    .colab-df-convert:hover {\n",
              "      background-color: #E2EBFA;\n",
              "      box-shadow: 0px 1px 2px rgba(60, 64, 67, 0.3), 0px 1px 3px 1px rgba(60, 64, 67, 0.15);\n",
              "      fill: #174EA6;\n",
              "    }\n",
              "\n",
              "    [theme=dark] .colab-df-convert {\n",
              "      background-color: #3B4455;\n",
              "      fill: #D2E3FC;\n",
              "    }\n",
              "\n",
              "    [theme=dark] .colab-df-convert:hover {\n",
              "      background-color: #434B5C;\n",
              "      box-shadow: 0px 1px 3px 1px rgba(0, 0, 0, 0.15);\n",
              "      filter: drop-shadow(0px 1px 2px rgba(0, 0, 0, 0.3));\n",
              "      fill: #FFFFFF;\n",
              "    }\n",
              "  </style>\n",
              "\n",
              "      <script>\n",
              "        const buttonEl =\n",
              "          document.querySelector('#df-ffb243dd-8a91-4d09-8db5-e1e41d384c93 button.colab-df-convert');\n",
              "        buttonEl.style.display =\n",
              "          google.colab.kernel.accessAllowed ? 'block' : 'none';\n",
              "\n",
              "        async function convertToInteractive(key) {\n",
              "          const element = document.querySelector('#df-ffb243dd-8a91-4d09-8db5-e1e41d384c93');\n",
              "          const dataTable =\n",
              "            await google.colab.kernel.invokeFunction('convertToInteractive',\n",
              "                                                     [key], {});\n",
              "          if (!dataTable) return;\n",
              "\n",
              "          const docLinkHtml = 'Like what you see? Visit the ' +\n",
              "            '<a target=\"_blank\" href=https://colab.research.google.com/notebooks/data_table.ipynb>data table notebook</a>'\n",
              "            + ' to learn more about interactive tables.';\n",
              "          element.innerHTML = '';\n",
              "          dataTable['output_type'] = 'display_data';\n",
              "          await google.colab.output.renderOutput(dataTable, element);\n",
              "          const docLink = document.createElement('div');\n",
              "          docLink.innerHTML = docLinkHtml;\n",
              "          element.appendChild(docLink);\n",
              "        }\n",
              "      </script>\n",
              "    </div>\n",
              "  </div>\n",
              "  "
            ],
            "text/plain": [
              "         accuracy  precison    recall        f1\n",
              "model_1  0.786542  0.782839  0.786542  0.783958\n",
              "model_2  0.728552  0.729265  0.728552  0.727385\n",
              "model_3  0.690520  0.689042  0.690520  0.680259\n",
              "model_4  0.745002  0.745853  0.745002  0.743032\n",
              "model_5  0.856348  0.860690  0.856348  0.853753"
            ]
          },
          "metadata": {},
          "execution_count": 115
        }
      ]
    },
    {
      "cell_type": "code",
      "source": [
        "plt.figure(figsize=(8,4))\n",
        "all_results_df.plot(kind='bar',figsize=(10,8),title='All Models Metrics',fontsize=20,cmap='Dark2');\n",
        "plt.legend(loc=(1.02,0.5))\n",
        "plt.grid();"
      ],
      "metadata": {
        "colab": {
          "base_uri": "https://localhost:8080/",
          "height": 572
        },
        "id": "1hQdPEc2AnUU",
        "outputId": "e7baf1d8-dff0-4f73-a773-197d43e3ce04"
      },
      "execution_count": null,
      "outputs": [
        {
          "output_type": "display_data",
          "data": {
            "text/plain": [
              "<Figure size 576x288 with 0 Axes>"
            ]
          },
          "metadata": {}
        },
        {
          "output_type": "display_data",
          "data": {
            "image/png": "[encoded data removed]",
            "text/plain": [
              "<Figure size 720x576 with 1 Axes>"
            ]
          },
          "metadata": {
            "needs_background": "light"
          }
        }
      ]
    },
    {
      "cell_type": "code",
      "source": [
        "all_results_df['f1'].sort_values(ascending=False).plot(kind='bar',cmap='Pastel2',figsize=(8,6),alpha=1)"
      ],
      "metadata": {
        "colab": {
          "base_uri": "https://localhost:8080/",
          "height": 424
        },
        "id": "ROBGEWQvA6Nd",
        "outputId": "051f896d-2250-470e-8c2a-2fcc136b508e"
      },
      "execution_count": null,
      "outputs": [
        {
          "output_type": "execute_result",
          "data": {
            "text/plain": [
              "<matplotlib.axes._subplots.AxesSubplot at 0x7fde66a42850>"
            ]
          },
          "metadata": {},
          "execution_count": 124
        },
        {
          "output_type": "display_data",
          "data": {
            "image/png": "[encoded data removed]",
            "text/plain": [
              "<Figure size 576x432 with 1 Axes>"
            ]
          },
          "metadata": {
            "needs_background": "light"
          }
        }
      ]
    },
    {
      "cell_type": "markdown",
      "source": [
        "# Save and Load the Best Model"
      ],
      "metadata": {
        "id": "KDhb-bZfNuVb"
      }
    },
    {
      "cell_type": "code",
      "source": [
        "#Save the char_token_pos tribrid model\n",
        "model_5.save('saved_models/skimlit_tribrid_model')"
      ],
      "metadata": {
        "colab": {
          "base_uri": "https://localhost:8080/"
        },
        "id": "tB8zXf2fOCia",
        "outputId": "be7bb8f8-948f-4f0f-e418-da57f7189b7f"
      },
      "execution_count": null,
      "outputs": [
        {
          "output_type": "stream",
          "name": "stderr",
          "text": [
            "WARNING:absl:Found untraced functions such as lstm_cell_4_layer_call_fn, lstm_cell_4_layer_call_and_return_conditional_losses, lstm_cell_5_layer_call_fn, lstm_cell_5_layer_call_and_return_conditional_losses, lstm_cell_4_layer_call_fn while saving (showing 5 of 10). These functions will not be directly callable after loading.\n"
          ]
        },
        {
          "output_type": "stream",
          "name": "stdout",
          "text": [
            "INFO:tensorflow:Assets written to: saved_models/skimlit_tribrid_model/assets\n"
          ]
        },
        {
          "output_type": "stream",
          "name": "stderr",
          "text": [
            "INFO:tensorflow:Assets written to: saved_models/skimlit_tribrid_model/assets\n",
            "WARNING:absl:<keras.layers.recurrent.LSTMCell object at 0x7fe0032d0b90> has the same name 'LSTMCell' as a built-in Keras object. Consider renaming <class 'keras.layers.recurrent.LSTMCell'> to avoid naming conflicts when loading with `tf.keras.models.load_model`. If renaming is not possible, pass the object in the `custom_objects` parameter of the load function.\n",
            "WARNING:absl:<keras.layers.recurrent.LSTMCell object at 0x7fe0032cca90> has the same name 'LSTMCell' as a built-in Keras object. Consider renaming <class 'keras.layers.recurrent.LSTMCell'> to avoid naming conflicts when loading with `tf.keras.models.load_model`. If renaming is not possible, pass the object in the `custom_objects` parameter of the load function.\n"
          ]
        }
      ]
    },
    {
      "cell_type": "code",
      "source": [
        "#Save model to GoogleDrive\n",
        "!cp './saved_models/skimlit_tribrid_model' -r '/content/drive/MyDrive/tensorflow_course/saved_models'"
      ],
      "metadata": {
        "id": "LIEJHvEdOUrW"
      },
      "execution_count": null,
      "outputs": []
    },
    {
      "cell_type": "code",
      "source": [
        "#Loade the saved Model\n",
        "loaded_model = tf.keras.models.load_model('/content/drive/MyDrive/tensorflow_course/saved_models/skimlit_tribrid_model')"
      ],
      "metadata": {
        "id": "ypkeKEmBQlV6"
      },
      "execution_count": null,
      "outputs": []
    },
    {
      "cell_type": "code",
      "source": [
        "y_pred_probs_val = loaded_model.predict(valid_dataset)\n",
        "y_pred_val = tf.argmax(y_pred_probs_val,axis=1)\n",
        "y_pred_val"
      ],
      "metadata": {
        "colab": {
          "base_uri": "https://localhost:8080/"
        },
        "id": "5a9GOzaJQ70l",
        "outputId": "a574da92-e0de-455d-96d3-70aa5ee59c78"
      },
      "execution_count": null,
      "outputs": [
        {
          "output_type": "execute_result",
          "data": {
            "text/plain": [
              "<tf.Tensor: shape=(30212,), dtype=int64, numpy=array([0, 0, 3, ..., 4, 4, 1])>"
            ]
          },
          "metadata": {},
          "execution_count": 128
        }
      ]
    },
    {
      "cell_type": "code",
      "source": [
        "loaded_model_results = evaluate(y_valid_encoded,y_pred_val)\n",
        "loaded_model_results"
      ],
      "metadata": {
        "colab": {
          "base_uri": "https://localhost:8080/"
        },
        "id": "PjaSfVWORQIk",
        "outputId": "ed7d8332-b482-4db0-8186-ddf47c9bdfdd"
      },
      "execution_count": null,
      "outputs": [
        {
          "output_type": "execute_result",
          "data": {
            "text/plain": [
              "{'accuracy': 0.8563484708063022,\n",
              " 'f1': 0.8535480521232753,\n",
              " 'precison': 0.8610561406679387,\n",
              " 'recall': 0.8563484708063022}"
            ]
          },
          "metadata": {},
          "execution_count": 130
        }
      ]
    },
    {
      "cell_type": "markdown",
      "source": [
        "# Evalate the model on test Dataset"
      ],
      "metadata": {
        "id": "vt5ZZnqxRlkh"
      }
    },
    {
      "cell_type": "markdown",
      "source": [
        "## Create the dataset as required by the model\n"
      ],
      "metadata": {
        "id": "BwC6TACZSZBt"
      }
    },
    {
      "cell_type": "code",
      "source": [
        "#Get the Feature columns\n",
        "test_text = test_df['text']\n",
        "test_line_order = test_df['order']\n",
        "test_total_lines = test_df['total_lines']\n",
        "test_char_seq = [split_text(text) for text in test_text]\n",
        "test_labels = test_df['target']"
      ],
      "metadata": {
        "id": "bw0MB5A6ShEK"
      },
      "execution_count": null,
      "outputs": []
    },
    {
      "cell_type": "code",
      "source": [
        "#one_hot encode `line_order`\n",
        "test_line_order_one_hot = tf.one_hot(test_line_order,depth=max_line_order_depth)\n",
        "#one_hot encode `total_lines`\n",
        "test_total_lines_one_hot = tf.one_hot(test_total_lines,depth=max_total_lines_depth)\n",
        "# one_hot encode target labels\n",
        "test_labels_one_hot = one_hot.transform(test_labels.to_numpy().reshape(-1,1))\n",
        "# encode test_labels\n",
        "test_labels_encoded = label_encoder.transform(test_labels)"
      ],
      "metadata": {
        "colab": {
          "base_uri": "https://localhost:8080/"
        },
        "id": "pSHKPQ8nTU6i",
        "outputId": "9ced50df-694f-41f9-d857-d6e18b034468"
      },
      "execution_count": null,
      "outputs": [
        {
          "output_type": "execute_result",
          "data": {
            "text/plain": [
              "array([0, 4, 4, ..., 4, 4, 1])"
            ]
          },
          "metadata": {},
          "execution_count": 159
        }
      ]
    },
    {
      "cell_type": "code",
      "source": [
        "#create batched dataset\n",
        "X_test = Dataset.from_tensor_slices((test_text,test_char_seq,test_line_order_one_hot,test_total_lines_one_hot))\n",
        "y_test = Dataset.from_tensor_slices(test_labels_one_hot)\n",
        "test_dataset = Dataset.zip((X_test,y_test)).batch(32).prefetch(AUTOTUNE)\n",
        "test_dataset"
      ],
      "metadata": {
        "colab": {
          "base_uri": "https://localhost:8080/"
        },
        "id": "ttxpUsH5T8nc",
        "outputId": "bfaa1c3c-63cf-4da7-d0bc-2b0da214cd61"
      },
      "execution_count": null,
      "outputs": [
        {
          "output_type": "execute_result",
          "data": {
            "text/plain": [
              "<PrefetchDataset shapes: (((None,), (None,), (None, 17), (None, 22)), (None, 5)), types: ((tf.string, tf.string, tf.float32, tf.float32), tf.float64)>"
            ]
          },
          "metadata": {},
          "execution_count": 160
        }
      ]
    },
    {
      "cell_type": "code",
      "source": [
        "y_pred_probs_test = loaded_model.predict(test_dataset)"
      ],
      "metadata": {
        "colab": {
          "base_uri": "https://localhost:8080/"
        },
        "id": "HKpofU94SPju",
        "outputId": "e583d92b-cd72-494c-8291-24a5e4790cd6"
      },
      "execution_count": null,
      "outputs": [
        {
          "output_type": "execute_result",
          "data": {
            "text/plain": [
              "<tf.Tensor: shape=(5,), dtype=int64, numpy=array([15842,   612, 10635, 27116,  7923])>"
            ]
          },
          "metadata": {},
          "execution_count": 161
        }
      ]
    },
    {
      "cell_type": "code",
      "source": [
        "y_pred_test = tf.argmax(y_pred_probs_test,axis=1)\n",
        "y_pred_test"
      ],
      "metadata": {
        "colab": {
          "base_uri": "https://localhost:8080/"
        },
        "id": "aZMHuU39ZF3-",
        "outputId": "1c6fce6c-4737-48cb-c37a-495c0b0eb1e4"
      },
      "execution_count": null,
      "outputs": [
        {
          "output_type": "execute_result",
          "data": {
            "text/plain": [
              "<tf.Tensor: shape=(30135,), dtype=int64, numpy=array([3, 0, 2, ..., 4, 4, 2])>"
            ]
          },
          "metadata": {},
          "execution_count": 163
        }
      ]
    },
    {
      "cell_type": "code",
      "source": [
        "test_results = evaluate(test_labels_encoded,y_pred_test)\n",
        "test_results"
      ],
      "metadata": {
        "colab": {
          "base_uri": "https://localhost:8080/"
        },
        "id": "pNbzJ4ZUU-kj",
        "outputId": "1ff4a467-6b0c-40a2-f9fb-60fd31a1e037"
      },
      "execution_count": null,
      "outputs": [
        {
          "output_type": "execute_result",
          "data": {
            "text/plain": [
              "{'accuracy': 0.8476522316243571,\n",
              " 'f1': 0.8447394834107151,\n",
              " 'precison': 0.8516819160675403,\n",
              " 'recall': 0.8476522316243571}"
            ]
          },
          "metadata": {},
          "execution_count": 164
        }
      ]
    },
    {
      "cell_type": "code",
      "source": [
        "y_pred_labels = class_names[y_pred_test]\n",
        "y_pred_labels"
      ],
      "metadata": {
        "colab": {
          "base_uri": "https://localhost:8080/"
        },
        "id": "vBbrHvZjYh2g",
        "outputId": "e2a889f7-5dcc-41be-d588-d25061550fdb"
      },
      "execution_count": null,
      "outputs": [
        {
          "output_type": "execute_result",
          "data": {
            "text/plain": [
              "array(['OBJECTIVE', 'BACKGROUND', 'METHODS', ..., 'RESULTS', 'RESULTS',\n",
              "       'METHODS'], dtype=object)"
            ]
          },
          "metadata": {},
          "execution_count": 165
        }
      ]
    },
    {
      "cell_type": "code",
      "source": [
        "test_df['pred_label'] = y_pred_labels\n",
        "test_df['pred_prob'] = np.max(y_pred_probs_test,axis=1)\n",
        "test_df.head()"
      ],
      "metadata": {
        "colab": {
          "base_uri": "https://localhost:8080/",
          "height": 337
        },
        "id": "mDHwxhouY50o",
        "outputId": "8f223dbf-edaa-4cbe-e10c-b74fec4c918c"
      },
      "execution_count": null,
      "outputs": [
        {
          "output_type": "execute_result",
          "data": {
            "text/html": [
              "\n",
              "  <div id=\"df-f170e81c-d588-4f86-aa8c-b1cb6f61f542\">\n",
              "    <div class=\"colab-df-container\">\n",
              "      <div>\n",
              "<style scoped>\n",
              "    .dataframe tbody tr th:only-of-type {\n",
              "        vertical-align: middle;\n",
              "    }\n",
              "\n",
              "    .dataframe tbody tr th {\n",
              "        vertical-align: top;\n",
              "    }\n",
              "\n",
              "    .dataframe thead th {\n",
              "        text-align: right;\n",
              "    }\n",
              "</style>\n",
              "<table border=\"1\" class=\"dataframe\">\n",
              "  <thead>\n",
              "    <tr style=\"text-align: right;\">\n",
              "      <th></th>\n",
              "      <th>order</th>\n",
              "      <th>text</th>\n",
              "      <th>target</th>\n",
              "      <th>total_lines</th>\n",
              "      <th>pred_label</th>\n",
              "      <th>pred_prob</th>\n",
              "    </tr>\n",
              "  </thead>\n",
              "  <tbody>\n",
              "    <tr>\n",
              "      <th>0</th>\n",
              "      <td>0</td>\n",
              "      <td>This study analyzed liver function abnormaliti...</td>\n",
              "      <td>BACKGROUND</td>\n",
              "      <td>9</td>\n",
              "      <td>OBJECTIVE</td>\n",
              "      <td>0.484802</td>\n",
              "    </tr>\n",
              "    <tr>\n",
              "      <th>1</th>\n",
              "      <td>1</td>\n",
              "      <td>A post hoc analysis was conducted with the use...</td>\n",
              "      <td>RESULTS</td>\n",
              "      <td>9</td>\n",
              "      <td>BACKGROUND</td>\n",
              "      <td>0.413142</td>\n",
              "    </tr>\n",
              "    <tr>\n",
              "      <th>2</th>\n",
              "      <td>2</td>\n",
              "      <td>Liver function tests ( LFTs ) were measured at...</td>\n",
              "      <td>RESULTS</td>\n",
              "      <td>9</td>\n",
              "      <td>METHODS</td>\n",
              "      <td>0.849780</td>\n",
              "    </tr>\n",
              "    <tr>\n",
              "      <th>3</th>\n",
              "      <td>3</td>\n",
              "      <td>Survival analyses were used to assess the asso...</td>\n",
              "      <td>RESULTS</td>\n",
              "      <td>9</td>\n",
              "      <td>METHODS</td>\n",
              "      <td>0.740671</td>\n",
              "    </tr>\n",
              "    <tr>\n",
              "      <th>4</th>\n",
              "      <td>4</td>\n",
              "      <td>The percentage of patients with abnormal LFTs ...</td>\n",
              "      <td>RESULTS</td>\n",
              "      <td>9</td>\n",
              "      <td>RESULTS</td>\n",
              "      <td>0.754065</td>\n",
              "    </tr>\n",
              "  </tbody>\n",
              "</table>\n",
              "</div>\n",
              "      <button class=\"colab-df-convert\" onclick=\"convertToInteractive('df-f170e81c-d588-4f86-aa8c-b1cb6f61f542')\"\n",
              "              title=\"Convert this dataframe to an interactive table.\"\n",
              "              style=\"display:none;\">\n",
              "        \n",
              "  <svg xmlns=\"http://www.w3.org/2000/svg\" height=\"24px\"viewBox=\"0 0 24 24\"\n",
              "       width=\"24px\">\n",
              "    <path d=\"M0 0h24v24H0V0z\" fill=\"none\"/>\n",
              "    <path d=\"M18.56 5.44l.94 2.06.94-2.06 2.06-.94-2.06-.94-.94-2.06-.94 2.06-2.06.94zm-11 1L8.5 8.5l.94-2.06 2.06-.94-2.06-.94L8.5 2.5l-.94 2.06-2.06.94zm10 10l.94 2.06.94-2.06 2.06-.94-2.06-.94-.94-2.06-.94 2.06-2.06.94z\"/><path d=\"M17.41 7.96l-1.37-1.37c-.4-.4-.92-.59-1.43-.59-.52 0-1.04.2-1.43.59L10.3 9.45l-7.72 7.72c-.78.78-.78 2.05 0 2.83L4 21.41c.39.39.9.59 1.41.59.51 0 1.02-.2 1.41-.59l7.78-7.78 2.81-2.81c.8-.78.8-2.07 0-2.86zM5.41 20L4 18.59l7.72-7.72 1.47 1.35L5.41 20z\"/>\n",
              "  </svg>\n",
              "      </button>\n",
              "      \n",
              "  <style>\n",
              "    .colab-df-container {\n",
              "      display:flex;\n",
              "      flex-wrap:wrap;\n",
              "      gap: 12px;\n",
              "    }\n",
              "\n",
              "    .colab-df-convert {\n",
              "      background-color: #E8F0FE;\n",
              "      border: none;\n",
              "      border-radius: 50%;\n",
              "      cursor: pointer;\n",
              "      display: none;\n",
              "      fill: #1967D2;\n",
              "      height: 32px;\n",
              "      padding: 0 0 0 0;\n",
              "      width: 32px;\n",
              "    }\n",
              "\n",
              "    .colab-df-convert:hover {\n",
              "      background-color: #E2EBFA;\n",
              "      box-shadow: 0px 1px 2px rgba(60, 64, 67, 0.3), 0px 1px 3px 1px rgba(60, 64, 67, 0.15);\n",
              "      fill: #174EA6;\n",
              "    }\n",
              "\n",
              "    [theme=dark] .colab-df-convert {\n",
              "      background-color: #3B4455;\n",
              "      fill: #D2E3FC;\n",
              "    }\n",
              "\n",
              "    [theme=dark] .colab-df-convert:hover {\n",
              "      background-color: #434B5C;\n",
              "      box-shadow: 0px 1px 3px 1px rgba(0, 0, 0, 0.15);\n",
              "      filter: drop-shadow(0px 1px 2px rgba(0, 0, 0, 0.3));\n",
              "      fill: #FFFFFF;\n",
              "    }\n",
              "  </style>\n",
              "\n",
              "      <script>\n",
              "        const buttonEl =\n",
              "          document.querySelector('#df-f170e81c-d588-4f86-aa8c-b1cb6f61f542 button.colab-df-convert');\n",
              "        buttonEl.style.display =\n",
              "          google.colab.kernel.accessAllowed ? 'block' : 'none';\n",
              "\n",
              "        async function convertToInteractive(key) {\n",
              "          const element = document.querySelector('#df-f170e81c-d588-4f86-aa8c-b1cb6f61f542');\n",
              "          const dataTable =\n",
              "            await google.colab.kernel.invokeFunction('convertToInteractive',\n",
              "                                                     [key], {});\n",
              "          if (!dataTable) return;\n",
              "\n",
              "          const docLinkHtml = 'Like what you see? Visit the ' +\n",
              "            '<a target=\"_blank\" href=https://colab.research.google.com/notebooks/data_table.ipynb>data table notebook</a>'\n",
              "            + ' to learn more about interactive tables.';\n",
              "          element.innerHTML = '';\n",
              "          dataTable['output_type'] = 'display_data';\n",
              "          await google.colab.output.renderOutput(dataTable, element);\n",
              "          const docLink = document.createElement('div');\n",
              "          docLink.innerHTML = docLinkHtml;\n",
              "          element.appendChild(docLink);\n",
              "        }\n",
              "      </script>\n",
              "    </div>\n",
              "  </div>\n",
              "  "
            ],
            "text/plain": [
              "   order  ... pred_prob\n",
              "0      0  ...  0.484802\n",
              "1      1  ...  0.413142\n",
              "2      2  ...  0.849780\n",
              "3      3  ...  0.740671\n",
              "4      4  ...  0.754065\n",
              "\n",
              "[5 rows x 6 columns]"
            ]
          },
          "metadata": {},
          "execution_count": 167
        }
      ]
    },
    {
      "cell_type": "code",
      "source": [
        "sorted_test_df = test_df.sort_values('pred_prob',ascending=False)"
      ],
      "metadata": {
        "id": "h2u6QdOGZfpR"
      },
      "execution_count": null,
      "outputs": []
    },
    {
      "cell_type": "code",
      "source": [
        "false_pred_df = sorted_test_df[test_df.target!=test_df.pred_label]\n",
        "true_pred_df = sorted_test_df[test_df.target==test_df.pred_label]"
      ],
      "metadata": {
        "colab": {
          "base_uri": "https://localhost:8080/"
        },
        "id": "z5y55EZVZukJ",
        "outputId": "991e83e8-c6fe-479e-905c-8fc00afbb7df"
      },
      "execution_count": null,
      "outputs": [
        {
          "output_type": "stream",
          "name": "stderr",
          "text": [
            "/usr/local/lib/python3.7/dist-packages/ipykernel_launcher.py:1: UserWarning: Boolean Series key will be reindexed to match DataFrame index.\n",
            "  \"\"\"Entry point for launching an IPython kernel.\n",
            "/usr/local/lib/python3.7/dist-packages/ipykernel_launcher.py:2: UserWarning: Boolean Series key will be reindexed to match DataFrame index.\n",
            "  \n"
          ]
        }
      ]
    },
    {
      "cell_type": "code",
      "source": [
        "false_pred_df.shape\n",
        "false_pred_df.head()"
      ],
      "metadata": {
        "colab": {
          "base_uri": "https://localhost:8080/",
          "height": 319
        },
        "id": "2ysVhoy6aAbg",
        "outputId": "b2c802c4-0627-467b-94d3-1b682e012886"
      },
      "execution_count": null,
      "outputs": [
        {
          "output_type": "execute_result",
          "data": {
            "text/html": [
              "\n",
              "  <div id=\"df-21a03ef5-6e99-4b50-9fdc-21f54e6b2d85\">\n",
              "    <div class=\"colab-df-container\">\n",
              "      <div>\n",
              "<style scoped>\n",
              "    .dataframe tbody tr th:only-of-type {\n",
              "        vertical-align: middle;\n",
              "    }\n",
              "\n",
              "    .dataframe tbody tr th {\n",
              "        vertical-align: top;\n",
              "    }\n",
              "\n",
              "    .dataframe thead th {\n",
              "        text-align: right;\n",
              "    }\n",
              "</style>\n",
              "<table border=\"1\" class=\"dataframe\">\n",
              "  <thead>\n",
              "    <tr style=\"text-align: right;\">\n",
              "      <th></th>\n",
              "      <th>order</th>\n",
              "      <th>text</th>\n",
              "      <th>target</th>\n",
              "      <th>total_lines</th>\n",
              "      <th>pred_label</th>\n",
              "      <th>pred_prob</th>\n",
              "    </tr>\n",
              "  </thead>\n",
              "  <tbody>\n",
              "    <tr>\n",
              "      <th>20040</th>\n",
              "      <td>11</td>\n",
              "      <td>Chictr.org .</td>\n",
              "      <td>CONCLUSIONS</td>\n",
              "      <td>13</td>\n",
              "      <td>BACKGROUND</td>\n",
              "      <td>0.918486</td>\n",
              "    </tr>\n",
              "    <tr>\n",
              "      <th>18720</th>\n",
              "      <td>8</td>\n",
              "      <td>non-diffuse-trickling '' ) .</td>\n",
              "      <td>RESULTS</td>\n",
              "      <td>16</td>\n",
              "      <td>BACKGROUND</td>\n",
              "      <td>0.907433</td>\n",
              "    </tr>\n",
              "    <tr>\n",
              "      <th>835</th>\n",
              "      <td>0</td>\n",
              "      <td>To assess the temporal patterns of late gastro...</td>\n",
              "      <td>BACKGROUND</td>\n",
              "      <td>12</td>\n",
              "      <td>OBJECTIVE</td>\n",
              "      <td>0.904320</td>\n",
              "    </tr>\n",
              "    <tr>\n",
              "      <th>18191</th>\n",
              "      <td>5</td>\n",
              "      <td>SE game clinicians were e-mailed @ question ev...</td>\n",
              "      <td>RESULTS</td>\n",
              "      <td>18</td>\n",
              "      <td>METHODS</td>\n",
              "      <td>0.899832</td>\n",
              "    </tr>\n",
              "    <tr>\n",
              "      <th>10452</th>\n",
              "      <td>0</td>\n",
              "      <td>To validate the association between accommodat...</td>\n",
              "      <td>BACKGROUND</td>\n",
              "      <td>11</td>\n",
              "      <td>OBJECTIVE</td>\n",
              "      <td>0.899107</td>\n",
              "    </tr>\n",
              "  </tbody>\n",
              "</table>\n",
              "</div>\n",
              "      <button class=\"colab-df-convert\" onclick=\"convertToInteractive('df-21a03ef5-6e99-4b50-9fdc-21f54e6b2d85')\"\n",
              "              title=\"Convert this dataframe to an interactive table.\"\n",
              "              style=\"display:none;\">\n",
              "        \n",
              "  <svg xmlns=\"http://www.w3.org/2000/svg\" height=\"24px\"viewBox=\"0 0 24 24\"\n",
              "       width=\"24px\">\n",
              "    <path d=\"M0 0h24v24H0V0z\" fill=\"none\"/>\n",
              "    <path d=\"M18.56 5.44l.94 2.06.94-2.06 2.06-.94-2.06-.94-.94-2.06-.94 2.06-2.06.94zm-11 1L8.5 8.5l.94-2.06 2.06-.94-2.06-.94L8.5 2.5l-.94 2.06-2.06.94zm10 10l.94 2.06.94-2.06 2.06-.94-2.06-.94-.94-2.06-.94 2.06-2.06.94z\"/><path d=\"M17.41 7.96l-1.37-1.37c-.4-.4-.92-.59-1.43-.59-.52 0-1.04.2-1.43.59L10.3 9.45l-7.72 7.72c-.78.78-.78 2.05 0 2.83L4 21.41c.39.39.9.59 1.41.59.51 0 1.02-.2 1.41-.59l7.78-7.78 2.81-2.81c.8-.78.8-2.07 0-2.86zM5.41 20L4 18.59l7.72-7.72 1.47 1.35L5.41 20z\"/>\n",
              "  </svg>\n",
              "      </button>\n",
              "      \n",
              "  <style>\n",
              "    .colab-df-container {\n",
              "      display:flex;\n",
              "      flex-wrap:wrap;\n",
              "      gap: 12px;\n",
              "    }\n",
              "\n",
              "    .colab-df-convert {\n",
              "      background-color: #E8F0FE;\n",
              "      border: none;\n",
              "      border-radius: 50%;\n",
              "      cursor: pointer;\n",
              "      display: none;\n",
              "      fill: #1967D2;\n",
              "      height: 32px;\n",
              "      padding: 0 0 0 0;\n",
              "      width: 32px;\n",
              "    }\n",
              "\n",
              "    .colab-df-convert:hover {\n",
              "      background-color: #E2EBFA;\n",
              "      box-shadow: 0px 1px 2px rgba(60, 64, 67, 0.3), 0px 1px 3px 1px rgba(60, 64, 67, 0.15);\n",
              "      fill: #174EA6;\n",
              "    }\n",
              "\n",
              "    [theme=dark] .colab-df-convert {\n",
              "      background-color: #3B4455;\n",
              "      fill: #D2E3FC;\n",
              "    }\n",
              "\n",
              "    [theme=dark] .colab-df-convert:hover {\n",
              "      background-color: #434B5C;\n",
              "      box-shadow: 0px 1px 3px 1px rgba(0, 0, 0, 0.15);\n",
              "      filter: drop-shadow(0px 1px 2px rgba(0, 0, 0, 0.3));\n",
              "      fill: #FFFFFF;\n",
              "    }\n",
              "  </style>\n",
              "\n",
              "      <script>\n",
              "        const buttonEl =\n",
              "          document.querySelector('#df-21a03ef5-6e99-4b50-9fdc-21f54e6b2d85 button.colab-df-convert');\n",
              "        buttonEl.style.display =\n",
              "          google.colab.kernel.accessAllowed ? 'block' : 'none';\n",
              "\n",
              "        async function convertToInteractive(key) {\n",
              "          const element = document.querySelector('#df-21a03ef5-6e99-4b50-9fdc-21f54e6b2d85');\n",
              "          const dataTable =\n",
              "            await google.colab.kernel.invokeFunction('convertToInteractive',\n",
              "                                                     [key], {});\n",
              "          if (!dataTable) return;\n",
              "\n",
              "          const docLinkHtml = 'Like what you see? Visit the ' +\n",
              "            '<a target=\"_blank\" href=https://colab.research.google.com/notebooks/data_table.ipynb>data table notebook</a>'\n",
              "            + ' to learn more about interactive tables.';\n",
              "          element.innerHTML = '';\n",
              "          dataTable['output_type'] = 'display_data';\n",
              "          await google.colab.output.renderOutput(dataTable, element);\n",
              "          const docLink = document.createElement('div');\n",
              "          docLink.innerHTML = docLinkHtml;\n",
              "          element.appendChild(docLink);\n",
              "        }\n",
              "      </script>\n",
              "    </div>\n",
              "  </div>\n",
              "  "
            ],
            "text/plain": [
              "       order  ... pred_prob\n",
              "20040     11  ...  0.918486\n",
              "18720      8  ...  0.907433\n",
              "835        0  ...  0.904320\n",
              "18191      5  ...  0.899832\n",
              "10452      0  ...  0.899107\n",
              "\n",
              "[5 rows x 6 columns]"
            ]
          },
          "metadata": {},
          "execution_count": 181
        }
      ]
    },
    {
      "cell_type": "code",
      "source": [
        "for row in false_pred_df[:10].itertuples():\n",
        "  _,order, text, target, total_lines, pred_label, pred_prob = row\n",
        "  print(f'''Target: {target}\\tPred: {pred_label}\\tPred Prob: {pred_prob:.2f}\n",
        "        Text:\\t{text}\n",
        "        Line_order: {order}\\tTotal_lines: {total_lines}\\n''')"
      ],
      "metadata": {
        "colab": {
          "base_uri": "https://localhost:8080/"
        },
        "id": "PjMJMkXaaE7Z",
        "outputId": "1632be09-1a76-449a-82a2-ad6002446953"
      },
      "execution_count": null,
      "outputs": [
        {
          "output_type": "stream",
          "name": "stdout",
          "text": [
            "Target: CONCLUSIONS\tPred: BACKGROUND\tPred Prob: 0.92\n",
            "        Text:\tChictr.org .\n",
            "        Line_order: 11\tTotal_lines: 13\n",
            "\n",
            "Target: RESULTS\tPred: BACKGROUND\tPred Prob: 0.91\n",
            "        Text:\tnon-diffuse-trickling '' ) .\n",
            "        Line_order: 8\tTotal_lines: 16\n",
            "\n",
            "Target: BACKGROUND\tPred: OBJECTIVE\tPred Prob: 0.90\n",
            "        Text:\tTo assess the temporal patterns of late gastrointestinal ( GI ) and genitourinary ( GU ) radiotherapy toxicity and resolution rates in a randomised controlled trial ( All-Ireland Cooperative Oncology Research Group @-@ ) assessing duration of neo-adjuvant ( NA ) hormone therapy for localised prostate cancer .\n",
            "        Line_order: 0\tTotal_lines: 12\n",
            "\n",
            "Target: RESULTS\tPred: METHODS\tPred Prob: 0.90\n",
            "        Text:\tSE game clinicians were e-mailed @ question every @ days .\n",
            "        Line_order: 5\tTotal_lines: 18\n",
            "\n",
            "Target: BACKGROUND\tPred: OBJECTIVE\tPred Prob: 0.90\n",
            "        Text:\tTo validate the association between accommodation and visual asthenopia by measuring objective accommodative amplitude with the Optical Quality Analysis System ( OQAS , Visiometrics , Terrassa , Spain ) , and to investigate associations among accommodation , ocular surface instability , and visual asthenopia while viewing @D displays .\n",
            "        Line_order: 0\tTotal_lines: 11\n",
            "\n",
            "Target: RESULTS\tPred: METHODS\tPred Prob: 0.90\n",
            "        Text:\tFifty-one patients , @ with abscesses and @ with infiltrates , were evaluated .\n",
            "        Line_order: 5\tTotal_lines: 19\n",
            "\n",
            "Target: OBJECTIVE\tPred: METHODS\tPred Prob: 0.90\n",
            "        Text:\t@ .\n",
            "        Line_order: 3\tTotal_lines: 16\n",
            "\n",
            "Target: BACKGROUND\tPred: METHODS\tPred Prob: 0.90\n",
            "        Text:\t@ .\n",
            "        Line_order: 4\tTotal_lines: 16\n",
            "\n",
            "Target: CONCLUSIONS\tPred: BACKGROUND\tPred Prob: 0.90\n",
            "        Text:\t-LSB- Netherlands Trial Register ( http://www.trialregister.nl/trialreg/index.asp ) , Nr @ , date of registration @ December @ . -RSB-\n",
            "        Line_order: 15\tTotal_lines: 16\n",
            "\n",
            "Target: RESULTS\tPred: METHODS\tPred Prob: 0.89\n",
            "        Text:\tThe intervention was delivered to children randomly selected from classes @ and @ who were followed up for @ months .\n",
            "        Line_order: 4\tTotal_lines: 17\n",
            "\n"
          ]
        }
      ]
    },
    {
      "cell_type": "code",
      "source": [
        ""
      ],
      "metadata": {
        "id": "0H6Hq_a7bWXF"
      },
      "execution_count": null,
      "outputs": []
    }
  ]
}